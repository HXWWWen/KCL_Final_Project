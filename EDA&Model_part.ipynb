{
 "cells": [
  {
   "cell_type": "markdown",
   "metadata": {},
   "source": [
    "### Import modules"
   ]
  },
  {
   "cell_type": "code",
   "execution_count": 1,
   "metadata": {},
   "outputs": [],
   "source": [
    "import numpy as np\n",
    "import pandas as pd\n",
    "import matplotlib.pyplot as plt\n",
    "import seaborn as sns\n",
    "from sklearn.model_selection import train_test_split, cross_val_score\n",
    "from imblearn.over_sampling import SMOTE\n",
    "import time\n",
    "\n",
    "import warnings\n",
    "warnings.filterwarnings(\"ignore\")"
   ]
  },
  {
   "cell_type": "markdown",
   "metadata": {},
   "source": [
    "### Data preparation"
   ]
  },
  {
   "cell_type": "code",
   "execution_count": 2,
   "metadata": {},
   "outputs": [],
   "source": [
    "data = pd.read_excel('final_data_0614.xlsx')"
   ]
  },
  {
   "cell_type": "code",
   "execution_count": 3,
   "metadata": {},
   "outputs": [
    {
     "data": {
      "text/html": [
       "<div>\n",
       "<style scoped>\n",
       "    .dataframe tbody tr th:only-of-type {\n",
       "        vertical-align: middle;\n",
       "    }\n",
       "\n",
       "    .dataframe tbody tr th {\n",
       "        vertical-align: top;\n",
       "    }\n",
       "\n",
       "    .dataframe thead th {\n",
       "        text-align: right;\n",
       "    }\n",
       "</style>\n",
       "<table border=\"1\" class=\"dataframe\">\n",
       "  <thead>\n",
       "    <tr style=\"text-align: right;\">\n",
       "      <th></th>\n",
       "      <th>url</th>\n",
       "      <th>title</th>\n",
       "      <th>title_after</th>\n",
       "      <th>catelogue</th>\n",
       "      <th>tag</th>\n",
       "      <th>n_rate</th>\n",
       "      <th>p_rate</th>\n",
       "      <th>adj_rate</th>\n",
       "      <th>m_rate</th>\n",
       "      <th>v_rate</th>\n",
       "      <th>adv_rate</th>\n",
       "      <th>len</th>\n",
       "      <th>popular_num</th>\n",
       "      <th>popular_all_num</th>\n",
       "    </tr>\n",
       "  </thead>\n",
       "  <tbody>\n",
       "    <tr>\n",
       "      <th>0</th>\n",
       "      <td>https-datos-parcan-es-dataset-iniciativas_tipo...</td>\n",
       "      <td>ED Initiatives — 2015 — VIII Legislature</td>\n",
       "      <td>ED Initiatives Legislature</td>\n",
       "      <td>datos-gob-es</td>\n",
       "      <td>GOVE</td>\n",
       "      <td>0.6667</td>\n",
       "      <td>0.0</td>\n",
       "      <td>0.0000</td>\n",
       "      <td>0.0</td>\n",
       "      <td>0.3333</td>\n",
       "      <td>0.0</td>\n",
       "      <td>40</td>\n",
       "      <td>3</td>\n",
       "      <td>0</td>\n",
       "    </tr>\n",
       "    <tr>\n",
       "      <th>1</th>\n",
       "      <td>c5e26a34-2456-46f5-9747-563469e60e05</td>\n",
       "      <td>TAH02 - Private households  persons per household</td>\n",
       "      <td>Private households persons per household</td>\n",
       "      <td>data-gov-ie</td>\n",
       "      <td>GOVE</td>\n",
       "      <td>0.6000</td>\n",
       "      <td>0.0</td>\n",
       "      <td>0.2000</td>\n",
       "      <td>0.0</td>\n",
       "      <td>0.0000</td>\n",
       "      <td>0.0</td>\n",
       "      <td>52</td>\n",
       "      <td>0</td>\n",
       "      <td>131356</td>\n",
       "    </tr>\n",
       "    <tr>\n",
       "      <th>2</th>\n",
       "      <td>cz-cuzk-zm10-rb-11180494</td>\n",
       "      <td>Base map CR 1:10,000 - colour seamless - 11180494</td>\n",
       "      <td>Base map CR colour seamless</td>\n",
       "      <td>cuzk</td>\n",
       "      <td>GOVE</td>\n",
       "      <td>1.0000</td>\n",
       "      <td>0.0</td>\n",
       "      <td>0.0000</td>\n",
       "      <td>0.0</td>\n",
       "      <td>0.0000</td>\n",
       "      <td>0.0</td>\n",
       "      <td>49</td>\n",
       "      <td>0</td>\n",
       "      <td>0</td>\n",
       "    </tr>\n",
       "    <tr>\n",
       "      <th>3</th>\n",
       "      <td>vp20160228-administration-cantonale-geneve</td>\n",
       "      <td>Results f the votes of the 28th February 2016 ...</td>\n",
       "      <td>Results votes February Geneva</td>\n",
       "      <td>opendata-swiss</td>\n",
       "      <td>GOVE</td>\n",
       "      <td>1.0000</td>\n",
       "      <td>0.0</td>\n",
       "      <td>0.0000</td>\n",
       "      <td>0.0</td>\n",
       "      <td>0.0000</td>\n",
       "      <td>0.0</td>\n",
       "      <td>57</td>\n",
       "      <td>0</td>\n",
       "      <td>0</td>\n",
       "    </tr>\n",
       "    <tr>\n",
       "      <th>4</th>\n",
       "      <td>cz-cuzk-zm10-rb-11100842</td>\n",
       "      <td>Base map CR 1:10,000 - colour seamless - 11100842</td>\n",
       "      <td>Base map CR colour seamless</td>\n",
       "      <td>cuzk</td>\n",
       "      <td>GOVE</td>\n",
       "      <td>1.0000</td>\n",
       "      <td>0.0</td>\n",
       "      <td>0.0000</td>\n",
       "      <td>0.0</td>\n",
       "      <td>0.0000</td>\n",
       "      <td>0.0</td>\n",
       "      <td>49</td>\n",
       "      <td>0</td>\n",
       "      <td>0</td>\n",
       "    </tr>\n",
       "    <tr>\n",
       "      <th>...</th>\n",
       "      <td>...</td>\n",
       "      <td>...</td>\n",
       "      <td>...</td>\n",
       "      <td>...</td>\n",
       "      <td>...</td>\n",
       "      <td>...</td>\n",
       "      <td>...</td>\n",
       "      <td>...</td>\n",
       "      <td>...</td>\n",
       "      <td>...</td>\n",
       "      <td>...</td>\n",
       "      <td>...</td>\n",
       "      <td>...</td>\n",
       "      <td>...</td>\n",
       "    </tr>\n",
       "    <tr>\n",
       "      <th>69797</th>\n",
       "      <td>timetable-54-2020-hrdf-oevch</td>\n",
       "      <td>Fahrplan 2020 (HRDF) Fmat 5.40</td>\n",
       "      <td>Fahrplan HRDF Fmat</td>\n",
       "      <td>opendata-swiss</td>\n",
       "      <td>TRAN</td>\n",
       "      <td>1.0000</td>\n",
       "      <td>0.0</td>\n",
       "      <td>0.0000</td>\n",
       "      <td>0.0</td>\n",
       "      <td>0.0000</td>\n",
       "      <td>0.0</td>\n",
       "      <td>32</td>\n",
       "      <td>0</td>\n",
       "      <td>0</td>\n",
       "    </tr>\n",
       "    <tr>\n",
       "      <th>69798</th>\n",
       "      <td>1759d3e9-1bd3-4744-b26e-4e759340ca15</td>\n",
       "      <td>Car park Scharbeutz P2</td>\n",
       "      <td>Car park Scharbeutz</td>\n",
       "      <td>govdata</td>\n",
       "      <td>TRAN</td>\n",
       "      <td>1.0000</td>\n",
       "      <td>0.0</td>\n",
       "      <td>0.0000</td>\n",
       "      <td>0.0</td>\n",
       "      <td>0.0000</td>\n",
       "      <td>0.0</td>\n",
       "      <td>22</td>\n",
       "      <td>0</td>\n",
       "      <td>5</td>\n",
       "    </tr>\n",
       "    <tr>\n",
       "      <th>69799</th>\n",
       "      <td>0fb2abdf-2809-4c2f-9323-f016ccc116aa</td>\n",
       "      <td>Sentier du Littal français (métropole et outre...</td>\n",
       "      <td>Sentier du Littal français métropole et outre-mer</td>\n",
       "      <td>geocatalogue-fr</td>\n",
       "      <td>TRAN</td>\n",
       "      <td>0.5714</td>\n",
       "      <td>0.0</td>\n",
       "      <td>0.1429</td>\n",
       "      <td>0.0</td>\n",
       "      <td>0.2857</td>\n",
       "      <td>0.0</td>\n",
       "      <td>53</td>\n",
       "      <td>0</td>\n",
       "      <td>0</td>\n",
       "    </tr>\n",
       "    <tr>\n",
       "      <th>69800</th>\n",
       "      <td>37634a10-e4d3-4930-92c4-5338410978e0</td>\n",
       "      <td>Automatic counting station Kiel/Schönkirchen 2009</td>\n",
       "      <td>Automatic counting station Kiel/Schönkirchen</td>\n",
       "      <td>govdata</td>\n",
       "      <td>TRAN</td>\n",
       "      <td>1.0000</td>\n",
       "      <td>0.0</td>\n",
       "      <td>0.0000</td>\n",
       "      <td>0.0</td>\n",
       "      <td>0.0000</td>\n",
       "      <td>0.0</td>\n",
       "      <td>49</td>\n",
       "      <td>0</td>\n",
       "      <td>351537</td>\n",
       "    </tr>\n",
       "    <tr>\n",
       "      <th>69801</th>\n",
       "      <td>db9e6866-b2b1-4767-8aa8-763923c1dc75</td>\n",
       "      <td>In the field</td>\n",
       "      <td>field</td>\n",
       "      <td>govdata</td>\n",
       "      <td>TRAN</td>\n",
       "      <td>1.0000</td>\n",
       "      <td>0.0</td>\n",
       "      <td>0.0000</td>\n",
       "      <td>0.0</td>\n",
       "      <td>0.0000</td>\n",
       "      <td>0.0</td>\n",
       "      <td>12</td>\n",
       "      <td>741366</td>\n",
       "      <td>1</td>\n",
       "    </tr>\n",
       "  </tbody>\n",
       "</table>\n",
       "<p>69802 rows × 14 columns</p>\n",
       "</div>"
      ],
      "text/plain": [
       "                                                     url  \\\n",
       "0      https-datos-parcan-es-dataset-iniciativas_tipo...   \n",
       "1                   c5e26a34-2456-46f5-9747-563469e60e05   \n",
       "2                               cz-cuzk-zm10-rb-11180494   \n",
       "3             vp20160228-administration-cantonale-geneve   \n",
       "4                               cz-cuzk-zm10-rb-11100842   \n",
       "...                                                  ...   \n",
       "69797                       timetable-54-2020-hrdf-oevch   \n",
       "69798               1759d3e9-1bd3-4744-b26e-4e759340ca15   \n",
       "69799               0fb2abdf-2809-4c2f-9323-f016ccc116aa   \n",
       "69800               37634a10-e4d3-4930-92c4-5338410978e0   \n",
       "69801               db9e6866-b2b1-4767-8aa8-763923c1dc75   \n",
       "\n",
       "                                                   title  \\\n",
       "0               ED Initiatives — 2015 — VIII Legislature   \n",
       "1      TAH02 - Private households  persons per household   \n",
       "2      Base map CR 1:10,000 - colour seamless - 11180494   \n",
       "3      Results f the votes of the 28th February 2016 ...   \n",
       "4      Base map CR 1:10,000 - colour seamless - 11100842   \n",
       "...                                                  ...   \n",
       "69797                     Fahrplan 2020 (HRDF) Fmat 5.40   \n",
       "69798                             Car park Scharbeutz P2   \n",
       "69799  Sentier du Littal français (métropole et outre...   \n",
       "69800  Automatic counting station Kiel/Schönkirchen 2009   \n",
       "69801                                       In the field   \n",
       "\n",
       "                                             title_after        catelogue  \\\n",
       "0                             ED Initiatives Legislature     datos-gob-es   \n",
       "1               Private households persons per household      data-gov-ie   \n",
       "2                            Base map CR colour seamless             cuzk   \n",
       "3                          Results votes February Geneva   opendata-swiss   \n",
       "4                            Base map CR colour seamless             cuzk   \n",
       "...                                                  ...              ...   \n",
       "69797                                 Fahrplan HRDF Fmat   opendata-swiss   \n",
       "69798                                Car park Scharbeutz          govdata   \n",
       "69799  Sentier du Littal français métropole et outre-mer  geocatalogue-fr   \n",
       "69800       Automatic counting station Kiel/Schönkirchen          govdata   \n",
       "69801                                              field          govdata   \n",
       "\n",
       "        tag  n_rate  p_rate  adj_rate  m_rate  v_rate  adv_rate  len  \\\n",
       "0      GOVE  0.6667     0.0    0.0000     0.0  0.3333       0.0   40   \n",
       "1      GOVE  0.6000     0.0    0.2000     0.0  0.0000       0.0   52   \n",
       "2      GOVE  1.0000     0.0    0.0000     0.0  0.0000       0.0   49   \n",
       "3      GOVE  1.0000     0.0    0.0000     0.0  0.0000       0.0   57   \n",
       "4      GOVE  1.0000     0.0    0.0000     0.0  0.0000       0.0   49   \n",
       "...     ...     ...     ...       ...     ...     ...       ...  ...   \n",
       "69797  TRAN  1.0000     0.0    0.0000     0.0  0.0000       0.0   32   \n",
       "69798  TRAN  1.0000     0.0    0.0000     0.0  0.0000       0.0   22   \n",
       "69799  TRAN  0.5714     0.0    0.1429     0.0  0.2857       0.0   53   \n",
       "69800  TRAN  1.0000     0.0    0.0000     0.0  0.0000       0.0   49   \n",
       "69801  TRAN  1.0000     0.0    0.0000     0.0  0.0000       0.0   12   \n",
       "\n",
       "       popular_num  popular_all_num  \n",
       "0                3                0  \n",
       "1                0           131356  \n",
       "2                0                0  \n",
       "3                0                0  \n",
       "4                0                0  \n",
       "...            ...              ...  \n",
       "69797            0                0  \n",
       "69798            0                5  \n",
       "69799            0                0  \n",
       "69800            0           351537  \n",
       "69801       741366                1  \n",
       "\n",
       "[69802 rows x 14 columns]"
      ]
     },
     "execution_count": 3,
     "metadata": {},
     "output_type": "execute_result"
    }
   ],
   "source": [
    "data"
   ]
  },
  {
   "cell_type": "code",
   "execution_count": 4,
   "metadata": {},
   "outputs": [],
   "source": [
    "data_used = data[['catelogue', 'tag', 'n_rate', 'p_rate', 'adj_rate', 'm_rate', 'v_rate', \n",
    "                  'adv_rate', 'len', 'popular_num', 'popular_all_num']]"
   ]
  },
  {
   "cell_type": "code",
   "execution_count": 112,
   "metadata": {},
   "outputs": [
    {
     "data": {
      "text/plain": [
       "(69802, 11)"
      ]
     },
     "execution_count": 112,
     "metadata": {},
     "output_type": "execute_result"
    }
   ],
   "source": [
    "data_used.shape"
   ]
  },
  {
   "cell_type": "code",
   "execution_count": 113,
   "metadata": {},
   "outputs": [
    {
     "name": "stdout",
     "output_type": "stream",
     "text": [
      "<class 'pandas.core.frame.DataFrame'>\n",
      "RangeIndex: 69802 entries, 0 to 69801\n",
      "Data columns (total 11 columns):\n",
      " #   Column           Non-Null Count  Dtype  \n",
      "---  ------           --------------  -----  \n",
      " 0   catelogue        69802 non-null  object \n",
      " 1   tag              69802 non-null  object \n",
      " 2   n_rate           69802 non-null  float64\n",
      " 3   p_rate           69802 non-null  float64\n",
      " 4   adj_rate         69802 non-null  float64\n",
      " 5   m_rate           69802 non-null  float64\n",
      " 6   v_rate           69802 non-null  float64\n",
      " 7   adv_rate         69802 non-null  float64\n",
      " 8   len              69802 non-null  int64  \n",
      " 9   popular_num      69802 non-null  int64  \n",
      " 10  popular_all_num  69802 non-null  int64  \n",
      "dtypes: float64(6), int64(3), object(2)\n",
      "memory usage: 5.9+ MB\n"
     ]
    }
   ],
   "source": [
    "data_used.info()"
   ]
  },
  {
   "cell_type": "code",
   "execution_count": 114,
   "metadata": {},
   "outputs": [
    {
     "data": {
      "text/html": [
       "<div>\n",
       "<style scoped>\n",
       "    .dataframe tbody tr th:only-of-type {\n",
       "        vertical-align: middle;\n",
       "    }\n",
       "\n",
       "    .dataframe tbody tr th {\n",
       "        vertical-align: top;\n",
       "    }\n",
       "\n",
       "    .dataframe thead th {\n",
       "        text-align: right;\n",
       "    }\n",
       "</style>\n",
       "<table border=\"1\" class=\"dataframe\">\n",
       "  <thead>\n",
       "    <tr style=\"text-align: right;\">\n",
       "      <th></th>\n",
       "      <th>n_rate</th>\n",
       "      <th>p_rate</th>\n",
       "      <th>adj_rate</th>\n",
       "      <th>m_rate</th>\n",
       "      <th>v_rate</th>\n",
       "      <th>adv_rate</th>\n",
       "      <th>len</th>\n",
       "      <th>popular_num</th>\n",
       "      <th>popular_all_num</th>\n",
       "    </tr>\n",
       "  </thead>\n",
       "  <tbody>\n",
       "    <tr>\n",
       "      <th>count</th>\n",
       "      <td>69802.000000</td>\n",
       "      <td>69802.000000</td>\n",
       "      <td>69802.000000</td>\n",
       "      <td>69802.000000</td>\n",
       "      <td>69802.000000</td>\n",
       "      <td>69802.000000</td>\n",
       "      <td>69802.000000</td>\n",
       "      <td>6.980200e+04</td>\n",
       "      <td>6.980200e+04</td>\n",
       "    </tr>\n",
       "    <tr>\n",
       "      <th>mean</th>\n",
       "      <td>0.891375</td>\n",
       "      <td>0.000389</td>\n",
       "      <td>0.049404</td>\n",
       "      <td>0.001224</td>\n",
       "      <td>0.040323</td>\n",
       "      <td>0.002494</td>\n",
       "      <td>54.287857</td>\n",
       "      <td>1.108469e+04</td>\n",
       "      <td>2.322634e+04</td>\n",
       "    </tr>\n",
       "    <tr>\n",
       "      <th>std</th>\n",
       "      <td>0.161037</td>\n",
       "      <td>0.009103</td>\n",
       "      <td>0.105762</td>\n",
       "      <td>0.018127</td>\n",
       "      <td>0.090841</td>\n",
       "      <td>0.025350</td>\n",
       "      <td>32.251617</td>\n",
       "      <td>3.114683e+05</td>\n",
       "      <td>6.611516e+05</td>\n",
       "    </tr>\n",
       "    <tr>\n",
       "      <th>min</th>\n",
       "      <td>0.000000</td>\n",
       "      <td>0.000000</td>\n",
       "      <td>0.000000</td>\n",
       "      <td>0.000000</td>\n",
       "      <td>0.000000</td>\n",
       "      <td>0.000000</td>\n",
       "      <td>2.000000</td>\n",
       "      <td>0.000000e+00</td>\n",
       "      <td>0.000000e+00</td>\n",
       "    </tr>\n",
       "    <tr>\n",
       "      <th>25%</th>\n",
       "      <td>0.800000</td>\n",
       "      <td>0.000000</td>\n",
       "      <td>0.000000</td>\n",
       "      <td>0.000000</td>\n",
       "      <td>0.000000</td>\n",
       "      <td>0.000000</td>\n",
       "      <td>34.000000</td>\n",
       "      <td>0.000000e+00</td>\n",
       "      <td>0.000000e+00</td>\n",
       "    </tr>\n",
       "    <tr>\n",
       "      <th>50%</th>\n",
       "      <td>1.000000</td>\n",
       "      <td>0.000000</td>\n",
       "      <td>0.000000</td>\n",
       "      <td>0.000000</td>\n",
       "      <td>0.000000</td>\n",
       "      <td>0.000000</td>\n",
       "      <td>49.000000</td>\n",
       "      <td>0.000000e+00</td>\n",
       "      <td>0.000000e+00</td>\n",
       "    </tr>\n",
       "    <tr>\n",
       "      <th>75%</th>\n",
       "      <td>1.000000</td>\n",
       "      <td>0.000000</td>\n",
       "      <td>0.000000</td>\n",
       "      <td>0.000000</td>\n",
       "      <td>0.000000</td>\n",
       "      <td>0.000000</td>\n",
       "      <td>63.000000</td>\n",
       "      <td>0.000000e+00</td>\n",
       "      <td>0.000000e+00</td>\n",
       "    </tr>\n",
       "    <tr>\n",
       "      <th>max</th>\n",
       "      <td>1.000000</td>\n",
       "      <td>0.400000</td>\n",
       "      <td>1.000000</td>\n",
       "      <td>0.500000</td>\n",
       "      <td>1.000000</td>\n",
       "      <td>1.000000</td>\n",
       "      <td>447.000000</td>\n",
       "      <td>3.072825e+07</td>\n",
       "      <td>7.247886e+07</td>\n",
       "    </tr>\n",
       "  </tbody>\n",
       "</table>\n",
       "</div>"
      ],
      "text/plain": [
       "             n_rate        p_rate      adj_rate        m_rate        v_rate  \\\n",
       "count  69802.000000  69802.000000  69802.000000  69802.000000  69802.000000   \n",
       "mean       0.891375      0.000389      0.049404      0.001224      0.040323   \n",
       "std        0.161037      0.009103      0.105762      0.018127      0.090841   \n",
       "min        0.000000      0.000000      0.000000      0.000000      0.000000   \n",
       "25%        0.800000      0.000000      0.000000      0.000000      0.000000   \n",
       "50%        1.000000      0.000000      0.000000      0.000000      0.000000   \n",
       "75%        1.000000      0.000000      0.000000      0.000000      0.000000   \n",
       "max        1.000000      0.400000      1.000000      0.500000      1.000000   \n",
       "\n",
       "           adv_rate           len   popular_num  popular_all_num  \n",
       "count  69802.000000  69802.000000  6.980200e+04     6.980200e+04  \n",
       "mean       0.002494     54.287857  1.108469e+04     2.322634e+04  \n",
       "std        0.025350     32.251617  3.114683e+05     6.611516e+05  \n",
       "min        0.000000      2.000000  0.000000e+00     0.000000e+00  \n",
       "25%        0.000000     34.000000  0.000000e+00     0.000000e+00  \n",
       "50%        0.000000     49.000000  0.000000e+00     0.000000e+00  \n",
       "75%        0.000000     63.000000  0.000000e+00     0.000000e+00  \n",
       "max        1.000000    447.000000  3.072825e+07     7.247886e+07  "
      ]
     },
     "execution_count": 114,
     "metadata": {},
     "output_type": "execute_result"
    }
   ],
   "source": [
    "data_used.describe()"
   ]
  },
  {
   "cell_type": "markdown",
   "metadata": {},
   "source": [
    "### Numerical variables"
   ]
  },
  {
   "cell_type": "code",
   "execution_count": 21,
   "metadata": {},
   "outputs": [
    {
     "data": {
      "text/plain": [
       "<matplotlib.axes._subplots.AxesSubplot at 0x7fc563c63160>"
      ]
     },
     "execution_count": 21,
     "metadata": {},
     "output_type": "execute_result"
    },
    {
     "data": {
      "image/png": "[encoded data removed]",
      "text/plain": [
       "<Figure size 432x288 with 1 Axes>"
      ]
     },
     "metadata": {
      "needs_background": "light"
     },
     "output_type": "display_data"
    }
   ],
   "source": [
    "sns.violinplot(data_used['n_rate'])"
   ]
  },
  {
   "cell_type": "code",
   "execution_count": 22,
   "metadata": {},
   "outputs": [
    {
     "data": {
      "text/plain": [
       "<matplotlib.axes._subplots.AxesSubplot at 0x7fc561bb4850>"
      ]
     },
     "execution_count": 22,
     "metadata": {},
     "output_type": "execute_result"
    },
    {
     "data": {
      "image/png": "[encoded data removed]",
      "text/plain": [
       "<Figure size 432x288 with 1 Axes>"
      ]
     },
     "metadata": {
      "needs_background": "light"
     },
     "output_type": "display_data"
    }
   ],
   "source": [
    "sns.violinplot(data_used['p_rate'])"
   ]
  },
  {
   "cell_type": "code",
   "execution_count": 23,
   "metadata": {},
   "outputs": [
    {
     "data": {
      "text/plain": [
       "<matplotlib.axes._subplots.AxesSubplot at 0x7fc54809ea30>"
      ]
     },
     "execution_count": 23,
     "metadata": {},
     "output_type": "execute_result"
    },
    {
     "data": {
      "image/png": "[encoded data removed]",
      "text/plain": [
       "<Figure size 432x288 with 1 Axes>"
      ]
     },
     "metadata": {
      "needs_background": "light"
     },
     "output_type": "display_data"
    }
   ],
   "source": [
    "sns.violinplot(data_used['adj_rate'])"
   ]
  },
  {
   "cell_type": "code",
   "execution_count": 24,
   "metadata": {},
   "outputs": [
    {
     "data": {
      "text/plain": [
       "<matplotlib.axes._subplots.AxesSubplot at 0x7fc5481803a0>"
      ]
     },
     "execution_count": 24,
     "metadata": {},
     "output_type": "execute_result"
    },
    {
     "data": {
      "image/png": "[encoded data removed]",
      "text/plain": [
       "<Figure size 432x288 with 1 Axes>"
      ]
     },
     "metadata": {
      "needs_background": "light"
     },
     "output_type": "display_data"
    }
   ],
   "source": [
    "sns.violinplot(data_used['m_rate'])"
   ]
  },
  {
   "cell_type": "code",
   "execution_count": 25,
   "metadata": {},
   "outputs": [
    {
     "data": {
      "text/plain": [
       "<matplotlib.axes._subplots.AxesSubplot at 0x7fc548257040>"
      ]
     },
     "execution_count": 25,
     "metadata": {},
     "output_type": "execute_result"
    },
    {
     "data": {
      "image/png": "[encoded data removed]",
      "text/plain": [
       "<Figure size 432x288 with 1 Axes>"
      ]
     },
     "metadata": {
      "needs_background": "light"
     },
     "output_type": "display_data"
    }
   ],
   "source": [
    "sns.violinplot(data_used['v_rate'])"
   ]
  },
  {
   "cell_type": "code",
   "execution_count": 26,
   "metadata": {},
   "outputs": [
    {
     "data": {
      "text/plain": [
       "<matplotlib.axes._subplots.AxesSubplot at 0x7fc54832b3d0>"
      ]
     },
     "execution_count": 26,
     "metadata": {},
     "output_type": "execute_result"
    },
    {
     "data": {
      "image/png": "[encoded data removed]",
      "text/plain": [
       "<Figure size 432x288 with 1 Axes>"
      ]
     },
     "metadata": {
      "needs_background": "light"
     },
     "output_type": "display_data"
    }
   ],
   "source": [
    "sns.violinplot(data_used['adv_rate'])"
   ]
  },
  {
   "cell_type": "code",
   "execution_count": 27,
   "metadata": {},
   "outputs": [
    {
     "data": {
      "text/plain": [
       "<matplotlib.axes._subplots.AxesSubplot at 0x7fc548409970>"
      ]
     },
     "execution_count": 27,
     "metadata": {},
     "output_type": "execute_result"
    },
    {
     "data": {
      "image/png": "[encoded data removed]",
      "text/plain": [
       "<Figure size 432x288 with 1 Axes>"
      ]
     },
     "metadata": {
      "needs_background": "light"
     },
     "output_type": "display_data"
    }
   ],
   "source": [
    "sns.violinplot(data_used['len'])"
   ]
  },
  {
   "cell_type": "code",
   "execution_count": 37,
   "metadata": {},
   "outputs": [
    {
     "data": {
      "text/plain": [
       "<matplotlib.axes._subplots.AxesSubplot at 0x7fc547d9adf0>"
      ]
     },
     "execution_count": 37,
     "metadata": {},
     "output_type": "execute_result"
    },
    {
     "data": {
      "image/png": "[encoded data removed]",
      "text/plain": [
       "<Figure size 432x288 with 1 Axes>"
      ]
     },
     "metadata": {
      "needs_background": "light"
     },
     "output_type": "display_data"
    }
   ],
   "source": [
    "sns.violinplot(data_used['popular_num'])"
   ]
  },
  {
   "cell_type": "code",
   "execution_count": 5,
   "metadata": {},
   "outputs": [],
   "source": [
    "# transform to keyword popular score in recent 7 days\n",
    "# min-max\n",
    "min_num = data_used['popular_num'].min()\n",
    "max_num = data_used['popular_num'].max()\n",
    "data_used['keyword_7days_popular_score'] = 100 * (data_used['popular_num'] - min_num) / (max_num - min_num)"
   ]
  },
  {
   "cell_type": "markdown",
   "metadata": {},
   "source": [
    "### Categorical variables"
   ]
  },
  {
   "cell_type": "code",
   "execution_count": 6,
   "metadata": {},
   "outputs": [
    {
     "data": {
      "text/plain": [
       "gdi-de             0.348787\n",
       "govdata            0.184465\n",
       "cuzk               0.109710\n",
       "datos-gob-es       0.104438\n",
       "geocatalogue-fr    0.058981\n",
       "                     ...   \n",
       "erc                0.000014\n",
       "eda                0.000014\n",
       "c                  0.000014\n",
       "budg               0.000014\n",
       "mare               0.000014\n",
       "Name: catelogue, Length: 95, dtype: float64"
      ]
     },
     "execution_count": 6,
     "metadata": {},
     "output_type": "execute_result"
    }
   ],
   "source": [
    "data_used['catelogue'].value_counts()/len(data_used)"
   ]
  },
  {
   "cell_type": "code",
   "execution_count": 7,
   "metadata": {},
   "outputs": [],
   "source": [
    "for i in range(len(data_used)):\n",
    "    if data_used.loc[i, 'catelogue'] == 'gdi-de':\n",
    "        data_used.loc[i, 'cate_tag'] = 0\n",
    "    elif data_used.loc[i, 'catelogue'] == 'govdata':\n",
    "        data_used.loc[i, 'cate_tag'] = 1\n",
    "    elif data_used.loc[i, 'catelogue'] == 'cuzk':\n",
    "        data_used.loc[i, 'cate_tag'] = 2\n",
    "    elif data_used.loc[i, 'catelogue'] == 'datos-gob-es':\n",
    "        data_used.loc[i, 'cate_tag'] = 3\n",
    "    elif data_used.loc[i, 'catelogue'] == 'geocatalogue-fr':\n",
    "        data_used.loc[i, 'cate_tag'] = 4\n",
    "    else:\n",
    "        data_used.loc[i, 'cate_tag'] = 5"
   ]
  },
  {
   "cell_type": "code",
   "execution_count": 8,
   "metadata": {},
   "outputs": [
    {
     "data": {
      "text/plain": [
       "0.0    0.348787\n",
       "5.0    0.193619\n",
       "1.0    0.184465\n",
       "2.0    0.109710\n",
       "3.0    0.104438\n",
       "4.0    0.058981\n",
       "Name: cate_tag, dtype: float64"
      ]
     },
     "execution_count": 8,
     "metadata": {},
     "output_type": "execute_result"
    }
   ],
   "source": [
    "data_used['cate_tag'].value_counts()/len(data_used)"
   ]
  },
  {
   "cell_type": "code",
   "execution_count": 119,
   "metadata": {},
   "outputs": [
    {
     "data": {
      "text/plain": [
       "<matplotlib.axes._subplots.AxesSubplot at 0x7fc54fb968e0>"
      ]
     },
     "execution_count": 119,
     "metadata": {},
     "output_type": "execute_result"
    },
    {
     "data": {
      "image/png": "[encoded data removed]",
      "text/plain": [
       "<Figure size 432x288 with 1 Axes>"
      ]
     },
     "metadata": {
      "needs_background": "light"
     },
     "output_type": "display_data"
    }
   ],
   "source": [
    "sns.countplot(data_used['cate_tag'])"
   ]
  },
  {
   "cell_type": "code",
   "execution_count": 120,
   "metadata": {},
   "outputs": [
    {
     "data": {
      "text/plain": [
       "<matplotlib.axes._subplots.AxesSubplot at 0x7fc54945f9a0>"
      ]
     },
     "execution_count": 120,
     "metadata": {},
     "output_type": "execute_result"
    },
    {
     "data": {
      "image/png": "[encoded data removed]",
      "text/plain": [
       "<Figure size 432x288 with 1 Axes>"
      ]
     },
     "metadata": {
      "needs_background": "light"
     },
     "output_type": "display_data"
    }
   ],
   "source": [
    "sns.countplot(data_used['tag'])"
   ]
  },
  {
   "cell_type": "markdown",
   "metadata": {},
   "source": [
    "### Y "
   ]
  },
  {
   "cell_type": "code",
   "execution_count": 45,
   "metadata": {},
   "outputs": [
    {
     "data": {
      "text/plain": [
       "<matplotlib.axes._subplots.AxesSubplot at 0x7fc548c1eb50>"
      ]
     },
     "execution_count": 45,
     "metadata": {},
     "output_type": "execute_result"
    },
    {
     "data": {
      "image/png": "[encoded data removed]",
      "text/plain": [
       "<Figure size 432x288 with 1 Axes>"
      ]
     },
     "metadata": {
      "needs_background": "light"
     },
     "output_type": "display_data"
    }
   ],
   "source": [
    "sns.boxplot(data_used['popular_all_num'])"
   ]
  },
  {
   "cell_type": "code",
   "execution_count": 9,
   "metadata": {},
   "outputs": [],
   "source": [
    "# transform to popular score in history\n",
    "# min-max\n",
    "min_all_num = data_used['popular_all_num'].min()\n",
    "max_all_num = data_used['popular_all_num'].max()\n",
    "data_used['history_popular_score'] = 100 * (data_used['popular_all_num'] - min_all_num) / (max_all_num - min_all_num)"
   ]
  },
  {
   "cell_type": "code",
   "execution_count": 10,
   "metadata": {},
   "outputs": [],
   "source": [
    "# divided into two categories\n",
    "# not popular at all: history_popular_score==0  52980\n",
    "# popular: history_popular_score!=0  16822\n",
    "data_used.loc[data_used['history_popular_score']!=0, 'y_tag'] = 1\n",
    "data_used.loc[data_used['history_popular_score']==0, 'y_tag'] = 0"
   ]
  },
  {
   "cell_type": "code",
   "execution_count": 11,
   "metadata": {},
   "outputs": [
    {
     "data": {
      "text/html": [
       "<div>\n",
       "<style scoped>\n",
       "    .dataframe tbody tr th:only-of-type {\n",
       "        vertical-align: middle;\n",
       "    }\n",
       "\n",
       "    .dataframe tbody tr th {\n",
       "        vertical-align: top;\n",
       "    }\n",
       "\n",
       "    .dataframe thead th {\n",
       "        text-align: right;\n",
       "    }\n",
       "</style>\n",
       "<table border=\"1\" class=\"dataframe\">\n",
       "  <thead>\n",
       "    <tr style=\"text-align: right;\">\n",
       "      <th></th>\n",
       "      <th>catelogue</th>\n",
       "      <th>tag</th>\n",
       "      <th>n_rate</th>\n",
       "      <th>p_rate</th>\n",
       "      <th>adj_rate</th>\n",
       "      <th>m_rate</th>\n",
       "      <th>v_rate</th>\n",
       "      <th>adv_rate</th>\n",
       "      <th>len</th>\n",
       "      <th>popular_num</th>\n",
       "      <th>popular_all_num</th>\n",
       "      <th>keyword_7days_popular_score</th>\n",
       "      <th>cate_tag</th>\n",
       "      <th>history_popular_score</th>\n",
       "      <th>y_tag</th>\n",
       "    </tr>\n",
       "  </thead>\n",
       "  <tbody>\n",
       "    <tr>\n",
       "      <th>0</th>\n",
       "      <td>datos-gob-es</td>\n",
       "      <td>GOVE</td>\n",
       "      <td>0.6667</td>\n",
       "      <td>0.0</td>\n",
       "      <td>0.0000</td>\n",
       "      <td>0.0</td>\n",
       "      <td>0.3333</td>\n",
       "      <td>0.0</td>\n",
       "      <td>40</td>\n",
       "      <td>3</td>\n",
       "      <td>0</td>\n",
       "      <td>0.000010</td>\n",
       "      <td>3.0</td>\n",
       "      <td>0.000000</td>\n",
       "      <td>0.0</td>\n",
       "    </tr>\n",
       "    <tr>\n",
       "      <th>1</th>\n",
       "      <td>data-gov-ie</td>\n",
       "      <td>GOVE</td>\n",
       "      <td>0.6000</td>\n",
       "      <td>0.0</td>\n",
       "      <td>0.2000</td>\n",
       "      <td>0.0</td>\n",
       "      <td>0.0000</td>\n",
       "      <td>0.0</td>\n",
       "      <td>52</td>\n",
       "      <td>0</td>\n",
       "      <td>131356</td>\n",
       "      <td>0.000000</td>\n",
       "      <td>5.0</td>\n",
       "      <td>0.181234</td>\n",
       "      <td>1.0</td>\n",
       "    </tr>\n",
       "    <tr>\n",
       "      <th>2</th>\n",
       "      <td>cuzk</td>\n",
       "      <td>GOVE</td>\n",
       "      <td>1.0000</td>\n",
       "      <td>0.0</td>\n",
       "      <td>0.0000</td>\n",
       "      <td>0.0</td>\n",
       "      <td>0.0000</td>\n",
       "      <td>0.0</td>\n",
       "      <td>49</td>\n",
       "      <td>0</td>\n",
       "      <td>0</td>\n",
       "      <td>0.000000</td>\n",
       "      <td>2.0</td>\n",
       "      <td>0.000000</td>\n",
       "      <td>0.0</td>\n",
       "    </tr>\n",
       "    <tr>\n",
       "      <th>3</th>\n",
       "      <td>opendata-swiss</td>\n",
       "      <td>GOVE</td>\n",
       "      <td>1.0000</td>\n",
       "      <td>0.0</td>\n",
       "      <td>0.0000</td>\n",
       "      <td>0.0</td>\n",
       "      <td>0.0000</td>\n",
       "      <td>0.0</td>\n",
       "      <td>57</td>\n",
       "      <td>0</td>\n",
       "      <td>0</td>\n",
       "      <td>0.000000</td>\n",
       "      <td>5.0</td>\n",
       "      <td>0.000000</td>\n",
       "      <td>0.0</td>\n",
       "    </tr>\n",
       "    <tr>\n",
       "      <th>4</th>\n",
       "      <td>cuzk</td>\n",
       "      <td>GOVE</td>\n",
       "      <td>1.0000</td>\n",
       "      <td>0.0</td>\n",
       "      <td>0.0000</td>\n",
       "      <td>0.0</td>\n",
       "      <td>0.0000</td>\n",
       "      <td>0.0</td>\n",
       "      <td>49</td>\n",
       "      <td>0</td>\n",
       "      <td>0</td>\n",
       "      <td>0.000000</td>\n",
       "      <td>2.0</td>\n",
       "      <td>0.000000</td>\n",
       "      <td>0.0</td>\n",
       "    </tr>\n",
       "    <tr>\n",
       "      <th>...</th>\n",
       "      <td>...</td>\n",
       "      <td>...</td>\n",
       "      <td>...</td>\n",
       "      <td>...</td>\n",
       "      <td>...</td>\n",
       "      <td>...</td>\n",
       "      <td>...</td>\n",
       "      <td>...</td>\n",
       "      <td>...</td>\n",
       "      <td>...</td>\n",
       "      <td>...</td>\n",
       "      <td>...</td>\n",
       "      <td>...</td>\n",
       "      <td>...</td>\n",
       "      <td>...</td>\n",
       "    </tr>\n",
       "    <tr>\n",
       "      <th>69797</th>\n",
       "      <td>opendata-swiss</td>\n",
       "      <td>TRAN</td>\n",
       "      <td>1.0000</td>\n",
       "      <td>0.0</td>\n",
       "      <td>0.0000</td>\n",
       "      <td>0.0</td>\n",
       "      <td>0.0000</td>\n",
       "      <td>0.0</td>\n",
       "      <td>32</td>\n",
       "      <td>0</td>\n",
       "      <td>0</td>\n",
       "      <td>0.000000</td>\n",
       "      <td>5.0</td>\n",
       "      <td>0.000000</td>\n",
       "      <td>0.0</td>\n",
       "    </tr>\n",
       "    <tr>\n",
       "      <th>69798</th>\n",
       "      <td>govdata</td>\n",
       "      <td>TRAN</td>\n",
       "      <td>1.0000</td>\n",
       "      <td>0.0</td>\n",
       "      <td>0.0000</td>\n",
       "      <td>0.0</td>\n",
       "      <td>0.0000</td>\n",
       "      <td>0.0</td>\n",
       "      <td>22</td>\n",
       "      <td>0</td>\n",
       "      <td>5</td>\n",
       "      <td>0.000000</td>\n",
       "      <td>1.0</td>\n",
       "      <td>0.000007</td>\n",
       "      <td>1.0</td>\n",
       "    </tr>\n",
       "    <tr>\n",
       "      <th>69799</th>\n",
       "      <td>geocatalogue-fr</td>\n",
       "      <td>TRAN</td>\n",
       "      <td>0.5714</td>\n",
       "      <td>0.0</td>\n",
       "      <td>0.1429</td>\n",
       "      <td>0.0</td>\n",
       "      <td>0.2857</td>\n",
       "      <td>0.0</td>\n",
       "      <td>53</td>\n",
       "      <td>0</td>\n",
       "      <td>0</td>\n",
       "      <td>0.000000</td>\n",
       "      <td>4.0</td>\n",
       "      <td>0.000000</td>\n",
       "      <td>0.0</td>\n",
       "    </tr>\n",
       "    <tr>\n",
       "      <th>69800</th>\n",
       "      <td>govdata</td>\n",
       "      <td>TRAN</td>\n",
       "      <td>1.0000</td>\n",
       "      <td>0.0</td>\n",
       "      <td>0.0000</td>\n",
       "      <td>0.0</td>\n",
       "      <td>0.0000</td>\n",
       "      <td>0.0</td>\n",
       "      <td>49</td>\n",
       "      <td>0</td>\n",
       "      <td>351537</td>\n",
       "      <td>0.000000</td>\n",
       "      <td>1.0</td>\n",
       "      <td>0.485020</td>\n",
       "      <td>1.0</td>\n",
       "    </tr>\n",
       "    <tr>\n",
       "      <th>69801</th>\n",
       "      <td>govdata</td>\n",
       "      <td>TRAN</td>\n",
       "      <td>1.0000</td>\n",
       "      <td>0.0</td>\n",
       "      <td>0.0000</td>\n",
       "      <td>0.0</td>\n",
       "      <td>0.0000</td>\n",
       "      <td>0.0</td>\n",
       "      <td>12</td>\n",
       "      <td>741366</td>\n",
       "      <td>1</td>\n",
       "      <td>2.412653</td>\n",
       "      <td>1.0</td>\n",
       "      <td>0.000001</td>\n",
       "      <td>1.0</td>\n",
       "    </tr>\n",
       "  </tbody>\n",
       "</table>\n",
       "<p>69802 rows × 15 columns</p>\n",
       "</div>"
      ],
      "text/plain": [
       "             catelogue   tag  n_rate  p_rate  adj_rate  m_rate  v_rate  \\\n",
       "0         datos-gob-es  GOVE  0.6667     0.0    0.0000     0.0  0.3333   \n",
       "1          data-gov-ie  GOVE  0.6000     0.0    0.2000     0.0  0.0000   \n",
       "2                 cuzk  GOVE  1.0000     0.0    0.0000     0.0  0.0000   \n",
       "3       opendata-swiss  GOVE  1.0000     0.0    0.0000     0.0  0.0000   \n",
       "4                 cuzk  GOVE  1.0000     0.0    0.0000     0.0  0.0000   \n",
       "...                ...   ...     ...     ...       ...     ...     ...   \n",
       "69797   opendata-swiss  TRAN  1.0000     0.0    0.0000     0.0  0.0000   \n",
       "69798          govdata  TRAN  1.0000     0.0    0.0000     0.0  0.0000   \n",
       "69799  geocatalogue-fr  TRAN  0.5714     0.0    0.1429     0.0  0.2857   \n",
       "69800          govdata  TRAN  1.0000     0.0    0.0000     0.0  0.0000   \n",
       "69801          govdata  TRAN  1.0000     0.0    0.0000     0.0  0.0000   \n",
       "\n",
       "       adv_rate  len  popular_num  popular_all_num  \\\n",
       "0           0.0   40            3                0   \n",
       "1           0.0   52            0           131356   \n",
       "2           0.0   49            0                0   \n",
       "3           0.0   57            0                0   \n",
       "4           0.0   49            0                0   \n",
       "...         ...  ...          ...              ...   \n",
       "69797       0.0   32            0                0   \n",
       "69798       0.0   22            0                5   \n",
       "69799       0.0   53            0                0   \n",
       "69800       0.0   49            0           351537   \n",
       "69801       0.0   12       741366                1   \n",
       "\n",
       "       keyword_7days_popular_score  cate_tag  history_popular_score  y_tag  \n",
       "0                         0.000010       3.0               0.000000    0.0  \n",
       "1                         0.000000       5.0               0.181234    1.0  \n",
       "2                         0.000000       2.0               0.000000    0.0  \n",
       "3                         0.000000       5.0               0.000000    0.0  \n",
       "4                         0.000000       2.0               0.000000    0.0  \n",
       "...                            ...       ...                    ...    ...  \n",
       "69797                     0.000000       5.0               0.000000    0.0  \n",
       "69798                     0.000000       1.0               0.000007    1.0  \n",
       "69799                     0.000000       4.0               0.000000    0.0  \n",
       "69800                     0.000000       1.0               0.485020    1.0  \n",
       "69801                     2.412653       1.0               0.000001    1.0  \n",
       "\n",
       "[69802 rows x 15 columns]"
      ]
     },
     "execution_count": 11,
     "metadata": {},
     "output_type": "execute_result"
    }
   ],
   "source": [
    "data_used"
   ]
  },
  {
   "cell_type": "code",
   "execution_count": 12,
   "metadata": {},
   "outputs": [],
   "source": [
    "data_numeric = data_used[['n_rate', 'p_rate', 'adj_rate', 'm_rate', 'v_rate', 'adv_rate', \n",
    "                          'len', 'keyword_7days_popular_score']]\n",
    "data_cate = data_used[['tag', 'cate_tag']]"
   ]
  },
  {
   "cell_type": "markdown",
   "metadata": {},
   "source": [
    "### correlation"
   ]
  },
  {
   "cell_type": "code",
   "execution_count": 127,
   "metadata": {},
   "outputs": [
    {
     "data": {
      "text/plain": [
       "n_rate                         float64\n",
       "p_rate                         float64\n",
       "adj_rate                       float64\n",
       "m_rate                         float64\n",
       "v_rate                         float64\n",
       "adv_rate                       float64\n",
       "len                              int64\n",
       "keyword_7days_popular_score    float64\n",
       "dtype: object"
      ]
     },
     "execution_count": 127,
     "metadata": {},
     "output_type": "execute_result"
    }
   ],
   "source": [
    "data_numeric.dtypes"
   ]
  },
  {
   "cell_type": "code",
   "execution_count": 128,
   "metadata": {},
   "outputs": [
    {
     "data": {
      "text/plain": [
       "<matplotlib.axes._subplots.AxesSubplot at 0x7fc54fc072b0>"
      ]
     },
     "execution_count": 128,
     "metadata": {},
     "output_type": "execute_result"
    },
    {
     "data": {
      "image/png": "[encoded data removed]",
      "text/plain": [
       "<Figure size 432x288 with 2 Axes>"
      ]
     },
     "metadata": {
      "needs_background": "light"
     },
     "output_type": "display_data"
    }
   ],
   "source": [
    "sns.set_context(font_scale=1.5)\n",
    "sns.heatmap(data_numeric.corr(),vmin=-1,vmax=1,cmap=sns.color_palette('RdBu',n_colors=128))"
   ]
  },
  {
   "cell_type": "code",
   "execution_count": 129,
   "metadata": {},
   "outputs": [
    {
     "data": {
      "text/html": [
       "<div>\n",
       "<style scoped>\n",
       "    .dataframe tbody tr th:only-of-type {\n",
       "        vertical-align: middle;\n",
       "    }\n",
       "\n",
       "    .dataframe tbody tr th {\n",
       "        vertical-align: top;\n",
       "    }\n",
       "\n",
       "    .dataframe thead th {\n",
       "        text-align: right;\n",
       "    }\n",
       "</style>\n",
       "<table border=\"1\" class=\"dataframe\">\n",
       "  <thead>\n",
       "    <tr style=\"text-align: right;\">\n",
       "      <th></th>\n",
       "      <th>n_rate</th>\n",
       "      <th>p_rate</th>\n",
       "      <th>adj_rate</th>\n",
       "      <th>m_rate</th>\n",
       "      <th>v_rate</th>\n",
       "      <th>adv_rate</th>\n",
       "      <th>len</th>\n",
       "      <th>keyword_7days_popular_score</th>\n",
       "    </tr>\n",
       "  </thead>\n",
       "  <tbody>\n",
       "    <tr>\n",
       "      <th>n_rate</th>\n",
       "      <td>1.000000</td>\n",
       "      <td>-0.055276</td>\n",
       "      <td>-0.686406</td>\n",
       "      <td>-0.122481</td>\n",
       "      <td>-0.613754</td>\n",
       "      <td>-0.186727</td>\n",
       "      <td>-0.298510</td>\n",
       "      <td>-0.001512</td>\n",
       "    </tr>\n",
       "    <tr>\n",
       "      <th>p_rate</th>\n",
       "      <td>-0.055276</td>\n",
       "      <td>1.000000</td>\n",
       "      <td>-0.014185</td>\n",
       "      <td>0.000586</td>\n",
       "      <td>0.020966</td>\n",
       "      <td>-0.004207</td>\n",
       "      <td>-0.008707</td>\n",
       "      <td>-0.001522</td>\n",
       "    </tr>\n",
       "    <tr>\n",
       "      <th>adj_rate</th>\n",
       "      <td>-0.686406</td>\n",
       "      <td>-0.014185</td>\n",
       "      <td>1.000000</td>\n",
       "      <td>0.003080</td>\n",
       "      <td>0.054476</td>\n",
       "      <td>0.017295</td>\n",
       "      <td>0.165268</td>\n",
       "      <td>-0.013723</td>\n",
       "    </tr>\n",
       "    <tr>\n",
       "      <th>m_rate</th>\n",
       "      <td>-0.122481</td>\n",
       "      <td>0.000586</td>\n",
       "      <td>0.003080</td>\n",
       "      <td>1.000000</td>\n",
       "      <td>0.013698</td>\n",
       "      <td>0.012177</td>\n",
       "      <td>0.010825</td>\n",
       "      <td>-0.001468</td>\n",
       "    </tr>\n",
       "    <tr>\n",
       "      <th>v_rate</th>\n",
       "      <td>-0.613754</td>\n",
       "      <td>0.020966</td>\n",
       "      <td>0.054476</td>\n",
       "      <td>0.013698</td>\n",
       "      <td>1.000000</td>\n",
       "      <td>0.035971</td>\n",
       "      <td>0.174335</td>\n",
       "      <td>-0.012184</td>\n",
       "    </tr>\n",
       "    <tr>\n",
       "      <th>adv_rate</th>\n",
       "      <td>-0.186727</td>\n",
       "      <td>-0.004207</td>\n",
       "      <td>0.017295</td>\n",
       "      <td>0.012177</td>\n",
       "      <td>0.035971</td>\n",
       "      <td>1.000000</td>\n",
       "      <td>0.027059</td>\n",
       "      <td>0.128518</td>\n",
       "    </tr>\n",
       "    <tr>\n",
       "      <th>len</th>\n",
       "      <td>-0.298510</td>\n",
       "      <td>-0.008707</td>\n",
       "      <td>0.165268</td>\n",
       "      <td>0.010825</td>\n",
       "      <td>0.174335</td>\n",
       "      <td>0.027059</td>\n",
       "      <td>1.000000</td>\n",
       "      <td>-0.041474</td>\n",
       "    </tr>\n",
       "    <tr>\n",
       "      <th>keyword_7days_popular_score</th>\n",
       "      <td>-0.001512</td>\n",
       "      <td>-0.001522</td>\n",
       "      <td>-0.013723</td>\n",
       "      <td>-0.001468</td>\n",
       "      <td>-0.012184</td>\n",
       "      <td>0.128518</td>\n",
       "      <td>-0.041474</td>\n",
       "      <td>1.000000</td>\n",
       "    </tr>\n",
       "  </tbody>\n",
       "</table>\n",
       "</div>"
      ],
      "text/plain": [
       "                               n_rate    p_rate  adj_rate    m_rate    v_rate  \\\n",
       "n_rate                       1.000000 -0.055276 -0.686406 -0.122481 -0.613754   \n",
       "p_rate                      -0.055276  1.000000 -0.014185  0.000586  0.020966   \n",
       "adj_rate                    -0.686406 -0.014185  1.000000  0.003080  0.054476   \n",
       "m_rate                      -0.122481  0.000586  0.003080  1.000000  0.013698   \n",
       "v_rate                      -0.613754  0.020966  0.054476  0.013698  1.000000   \n",
       "adv_rate                    -0.186727 -0.004207  0.017295  0.012177  0.035971   \n",
       "len                         -0.298510 -0.008707  0.165268  0.010825  0.174335   \n",
       "keyword_7days_popular_score -0.001512 -0.001522 -0.013723 -0.001468 -0.012184   \n",
       "\n",
       "                             adv_rate       len  keyword_7days_popular_score  \n",
       "n_rate                      -0.186727 -0.298510                    -0.001512  \n",
       "p_rate                      -0.004207 -0.008707                    -0.001522  \n",
       "adj_rate                     0.017295  0.165268                    -0.013723  \n",
       "m_rate                       0.012177  0.010825                    -0.001468  \n",
       "v_rate                       0.035971  0.174335                    -0.012184  \n",
       "adv_rate                     1.000000  0.027059                     0.128518  \n",
       "len                          0.027059  1.000000                    -0.041474  \n",
       "keyword_7days_popular_score  0.128518 -0.041474                     1.000000  "
      ]
     },
     "execution_count": 129,
     "metadata": {},
     "output_type": "execute_result"
    }
   ],
   "source": [
    "data_numeric.corr()\n",
    "# over 0.60\n",
    "# n_rate: adj_rate, v_rate"
   ]
  },
  {
   "cell_type": "code",
   "execution_count": 13,
   "metadata": {},
   "outputs": [],
   "source": [
    "data_numeric = data_numeric.drop(columns=['adj_rate', 'v_rate'])"
   ]
  },
  {
   "cell_type": "code",
   "execution_count": 14,
   "metadata": {},
   "outputs": [],
   "source": [
    "data_cate[\"cate_tag\"] = data_cate[\"cate_tag\"].astype(np.object)"
   ]
  },
  {
   "cell_type": "code",
   "execution_count": 15,
   "metadata": {},
   "outputs": [
    {
     "data": {
      "text/plain": [
       "tag         object\n",
       "cate_tag    object\n",
       "dtype: object"
      ]
     },
     "execution_count": 15,
     "metadata": {},
     "output_type": "execute_result"
    }
   ],
   "source": [
    "data_cate.dtypes"
   ]
  },
  {
   "cell_type": "code",
   "execution_count": 16,
   "metadata": {},
   "outputs": [],
   "source": [
    "data_dummy = pd.get_dummies(data_cate)"
   ]
  },
  {
   "cell_type": "code",
   "execution_count": 17,
   "metadata": {},
   "outputs": [
    {
     "data": {
      "text/html": [
       "<div>\n",
       "<style scoped>\n",
       "    .dataframe tbody tr th:only-of-type {\n",
       "        vertical-align: middle;\n",
       "    }\n",
       "\n",
       "    .dataframe tbody tr th {\n",
       "        vertical-align: top;\n",
       "    }\n",
       "\n",
       "    .dataframe thead th {\n",
       "        text-align: right;\n",
       "    }\n",
       "</style>\n",
       "<table border=\"1\" class=\"dataframe\">\n",
       "  <thead>\n",
       "    <tr style=\"text-align: right;\">\n",
       "      <th></th>\n",
       "      <th>tag_AGRI</th>\n",
       "      <th>tag_ECON</th>\n",
       "      <th>tag_EDUC</th>\n",
       "      <th>tag_ENER</th>\n",
       "      <th>tag_ENVI</th>\n",
       "      <th>tag_GOVE</th>\n",
       "      <th>tag_HEAL</th>\n",
       "      <th>tag_INTR</th>\n",
       "      <th>tag_JUST</th>\n",
       "      <th>tag_REGI</th>\n",
       "      <th>tag_SOCI</th>\n",
       "      <th>tag_TECH</th>\n",
       "      <th>tag_TRAN</th>\n",
       "      <th>cate_tag_0.0</th>\n",
       "      <th>cate_tag_1.0</th>\n",
       "      <th>cate_tag_2.0</th>\n",
       "      <th>cate_tag_3.0</th>\n",
       "      <th>cate_tag_4.0</th>\n",
       "      <th>cate_tag_5.0</th>\n",
       "    </tr>\n",
       "  </thead>\n",
       "  <tbody>\n",
       "    <tr>\n",
       "      <th>0</th>\n",
       "      <td>0</td>\n",
       "      <td>0</td>\n",
       "      <td>0</td>\n",
       "      <td>0</td>\n",
       "      <td>0</td>\n",
       "      <td>1</td>\n",
       "      <td>0</td>\n",
       "      <td>0</td>\n",
       "      <td>0</td>\n",
       "      <td>0</td>\n",
       "      <td>0</td>\n",
       "      <td>0</td>\n",
       "      <td>0</td>\n",
       "      <td>0</td>\n",
       "      <td>0</td>\n",
       "      <td>0</td>\n",
       "      <td>1</td>\n",
       "      <td>0</td>\n",
       "      <td>0</td>\n",
       "    </tr>\n",
       "    <tr>\n",
       "      <th>1</th>\n",
       "      <td>0</td>\n",
       "      <td>0</td>\n",
       "      <td>0</td>\n",
       "      <td>0</td>\n",
       "      <td>0</td>\n",
       "      <td>1</td>\n",
       "      <td>0</td>\n",
       "      <td>0</td>\n",
       "      <td>0</td>\n",
       "      <td>0</td>\n",
       "      <td>0</td>\n",
       "      <td>0</td>\n",
       "      <td>0</td>\n",
       "      <td>0</td>\n",
       "      <td>0</td>\n",
       "      <td>0</td>\n",
       "      <td>0</td>\n",
       "      <td>0</td>\n",
       "      <td>1</td>\n",
       "    </tr>\n",
       "    <tr>\n",
       "      <th>2</th>\n",
       "      <td>0</td>\n",
       "      <td>0</td>\n",
       "      <td>0</td>\n",
       "      <td>0</td>\n",
       "      <td>0</td>\n",
       "      <td>1</td>\n",
       "      <td>0</td>\n",
       "      <td>0</td>\n",
       "      <td>0</td>\n",
       "      <td>0</td>\n",
       "      <td>0</td>\n",
       "      <td>0</td>\n",
       "      <td>0</td>\n",
       "      <td>0</td>\n",
       "      <td>0</td>\n",
       "      <td>1</td>\n",
       "      <td>0</td>\n",
       "      <td>0</td>\n",
       "      <td>0</td>\n",
       "    </tr>\n",
       "    <tr>\n",
       "      <th>3</th>\n",
       "      <td>0</td>\n",
       "      <td>0</td>\n",
       "      <td>0</td>\n",
       "      <td>0</td>\n",
       "      <td>0</td>\n",
       "      <td>1</td>\n",
       "      <td>0</td>\n",
       "      <td>0</td>\n",
       "      <td>0</td>\n",
       "      <td>0</td>\n",
       "      <td>0</td>\n",
       "      <td>0</td>\n",
       "      <td>0</td>\n",
       "      <td>0</td>\n",
       "      <td>0</td>\n",
       "      <td>0</td>\n",
       "      <td>0</td>\n",
       "      <td>0</td>\n",
       "      <td>1</td>\n",
       "    </tr>\n",
       "    <tr>\n",
       "      <th>4</th>\n",
       "      <td>0</td>\n",
       "      <td>0</td>\n",
       "      <td>0</td>\n",
       "      <td>0</td>\n",
       "      <td>0</td>\n",
       "      <td>1</td>\n",
       "      <td>0</td>\n",
       "      <td>0</td>\n",
       "      <td>0</td>\n",
       "      <td>0</td>\n",
       "      <td>0</td>\n",
       "      <td>0</td>\n",
       "      <td>0</td>\n",
       "      <td>0</td>\n",
       "      <td>0</td>\n",
       "      <td>1</td>\n",
       "      <td>0</td>\n",
       "      <td>0</td>\n",
       "      <td>0</td>\n",
       "    </tr>\n",
       "    <tr>\n",
       "      <th>...</th>\n",
       "      <td>...</td>\n",
       "      <td>...</td>\n",
       "      <td>...</td>\n",
       "      <td>...</td>\n",
       "      <td>...</td>\n",
       "      <td>...</td>\n",
       "      <td>...</td>\n",
       "      <td>...</td>\n",
       "      <td>...</td>\n",
       "      <td>...</td>\n",
       "      <td>...</td>\n",
       "      <td>...</td>\n",
       "      <td>...</td>\n",
       "      <td>...</td>\n",
       "      <td>...</td>\n",
       "      <td>...</td>\n",
       "      <td>...</td>\n",
       "      <td>...</td>\n",
       "      <td>...</td>\n",
       "    </tr>\n",
       "    <tr>\n",
       "      <th>69797</th>\n",
       "      <td>0</td>\n",
       "      <td>0</td>\n",
       "      <td>0</td>\n",
       "      <td>0</td>\n",
       "      <td>0</td>\n",
       "      <td>0</td>\n",
       "      <td>0</td>\n",
       "      <td>0</td>\n",
       "      <td>0</td>\n",
       "      <td>0</td>\n",
       "      <td>0</td>\n",
       "      <td>0</td>\n",
       "      <td>1</td>\n",
       "      <td>0</td>\n",
       "      <td>0</td>\n",
       "      <td>0</td>\n",
       "      <td>0</td>\n",
       "      <td>0</td>\n",
       "      <td>1</td>\n",
       "    </tr>\n",
       "    <tr>\n",
       "      <th>69798</th>\n",
       "      <td>0</td>\n",
       "      <td>0</td>\n",
       "      <td>0</td>\n",
       "      <td>0</td>\n",
       "      <td>0</td>\n",
       "      <td>0</td>\n",
       "      <td>0</td>\n",
       "      <td>0</td>\n",
       "      <td>0</td>\n",
       "      <td>0</td>\n",
       "      <td>0</td>\n",
       "      <td>0</td>\n",
       "      <td>1</td>\n",
       "      <td>0</td>\n",
       "      <td>1</td>\n",
       "      <td>0</td>\n",
       "      <td>0</td>\n",
       "      <td>0</td>\n",
       "      <td>0</td>\n",
       "    </tr>\n",
       "    <tr>\n",
       "      <th>69799</th>\n",
       "      <td>0</td>\n",
       "      <td>0</td>\n",
       "      <td>0</td>\n",
       "      <td>0</td>\n",
       "      <td>0</td>\n",
       "      <td>0</td>\n",
       "      <td>0</td>\n",
       "      <td>0</td>\n",
       "      <td>0</td>\n",
       "      <td>0</td>\n",
       "      <td>0</td>\n",
       "      <td>0</td>\n",
       "      <td>1</td>\n",
       "      <td>0</td>\n",
       "      <td>0</td>\n",
       "      <td>0</td>\n",
       "      <td>0</td>\n",
       "      <td>1</td>\n",
       "      <td>0</td>\n",
       "    </tr>\n",
       "    <tr>\n",
       "      <th>69800</th>\n",
       "      <td>0</td>\n",
       "      <td>0</td>\n",
       "      <td>0</td>\n",
       "      <td>0</td>\n",
       "      <td>0</td>\n",
       "      <td>0</td>\n",
       "      <td>0</td>\n",
       "      <td>0</td>\n",
       "      <td>0</td>\n",
       "      <td>0</td>\n",
       "      <td>0</td>\n",
       "      <td>0</td>\n",
       "      <td>1</td>\n",
       "      <td>0</td>\n",
       "      <td>1</td>\n",
       "      <td>0</td>\n",
       "      <td>0</td>\n",
       "      <td>0</td>\n",
       "      <td>0</td>\n",
       "    </tr>\n",
       "    <tr>\n",
       "      <th>69801</th>\n",
       "      <td>0</td>\n",
       "      <td>0</td>\n",
       "      <td>0</td>\n",
       "      <td>0</td>\n",
       "      <td>0</td>\n",
       "      <td>0</td>\n",
       "      <td>0</td>\n",
       "      <td>0</td>\n",
       "      <td>0</td>\n",
       "      <td>0</td>\n",
       "      <td>0</td>\n",
       "      <td>0</td>\n",
       "      <td>1</td>\n",
       "      <td>0</td>\n",
       "      <td>1</td>\n",
       "      <td>0</td>\n",
       "      <td>0</td>\n",
       "      <td>0</td>\n",
       "      <td>0</td>\n",
       "    </tr>\n",
       "  </tbody>\n",
       "</table>\n",
       "<p>69802 rows × 19 columns</p>\n",
       "</div>"
      ],
      "text/plain": [
       "       tag_AGRI  tag_ECON  tag_EDUC  tag_ENER  tag_ENVI  tag_GOVE  tag_HEAL  \\\n",
       "0             0         0         0         0         0         1         0   \n",
       "1             0         0         0         0         0         1         0   \n",
       "2             0         0         0         0         0         1         0   \n",
       "3             0         0         0         0         0         1         0   \n",
       "4             0         0         0         0         0         1         0   \n",
       "...         ...       ...       ...       ...       ...       ...       ...   \n",
       "69797         0         0         0         0         0         0         0   \n",
       "69798         0         0         0         0         0         0         0   \n",
       "69799         0         0         0         0         0         0         0   \n",
       "69800         0         0         0         0         0         0         0   \n",
       "69801         0         0         0         0         0         0         0   \n",
       "\n",
       "       tag_INTR  tag_JUST  tag_REGI  tag_SOCI  tag_TECH  tag_TRAN  \\\n",
       "0             0         0         0         0         0         0   \n",
       "1             0         0         0         0         0         0   \n",
       "2             0         0         0         0         0         0   \n",
       "3             0         0         0         0         0         0   \n",
       "4             0         0         0         0         0         0   \n",
       "...         ...       ...       ...       ...       ...       ...   \n",
       "69797         0         0         0         0         0         1   \n",
       "69798         0         0         0         0         0         1   \n",
       "69799         0         0         0         0         0         1   \n",
       "69800         0         0         0         0         0         1   \n",
       "69801         0         0         0         0         0         1   \n",
       "\n",
       "       cate_tag_0.0  cate_tag_1.0  cate_tag_2.0  cate_tag_3.0  cate_tag_4.0  \\\n",
       "0                 0             0             0             1             0   \n",
       "1                 0             0             0             0             0   \n",
       "2                 0             0             1             0             0   \n",
       "3                 0             0             0             0             0   \n",
       "4                 0             0             1             0             0   \n",
       "...             ...           ...           ...           ...           ...   \n",
       "69797             0             0             0             0             0   \n",
       "69798             0             1             0             0             0   \n",
       "69799             0             0             0             0             1   \n",
       "69800             0             1             0             0             0   \n",
       "69801             0             1             0             0             0   \n",
       "\n",
       "       cate_tag_5.0  \n",
       "0                 0  \n",
       "1                 1  \n",
       "2                 0  \n",
       "3                 1  \n",
       "4                 0  \n",
       "...             ...  \n",
       "69797             1  \n",
       "69798             0  \n",
       "69799             0  \n",
       "69800             0  \n",
       "69801             0  \n",
       "\n",
       "[69802 rows x 19 columns]"
      ]
     },
     "execution_count": 17,
     "metadata": {},
     "output_type": "execute_result"
    }
   ],
   "source": [
    "data_dummy"
   ]
  },
  {
   "cell_type": "code",
   "execution_count": 18,
   "metadata": {},
   "outputs": [],
   "source": [
    "data_model = pd.concat([data_numeric, data_dummy], axis=1)"
   ]
  },
  {
   "cell_type": "code",
   "execution_count": 19,
   "metadata": {},
   "outputs": [
    {
     "data": {
      "text/html": [
       "<div>\n",
       "<style scoped>\n",
       "    .dataframe tbody tr th:only-of-type {\n",
       "        vertical-align: middle;\n",
       "    }\n",
       "\n",
       "    .dataframe tbody tr th {\n",
       "        vertical-align: top;\n",
       "    }\n",
       "\n",
       "    .dataframe thead th {\n",
       "        text-align: right;\n",
       "    }\n",
       "</style>\n",
       "<table border=\"1\" class=\"dataframe\">\n",
       "  <thead>\n",
       "    <tr style=\"text-align: right;\">\n",
       "      <th></th>\n",
       "      <th>n_rate</th>\n",
       "      <th>p_rate</th>\n",
       "      <th>m_rate</th>\n",
       "      <th>adv_rate</th>\n",
       "      <th>len</th>\n",
       "      <th>keyword_7days_popular_score</th>\n",
       "      <th>tag_AGRI</th>\n",
       "      <th>tag_ECON</th>\n",
       "      <th>tag_EDUC</th>\n",
       "      <th>tag_ENER</th>\n",
       "      <th>...</th>\n",
       "      <th>tag_REGI</th>\n",
       "      <th>tag_SOCI</th>\n",
       "      <th>tag_TECH</th>\n",
       "      <th>tag_TRAN</th>\n",
       "      <th>cate_tag_0.0</th>\n",
       "      <th>cate_tag_1.0</th>\n",
       "      <th>cate_tag_2.0</th>\n",
       "      <th>cate_tag_3.0</th>\n",
       "      <th>cate_tag_4.0</th>\n",
       "      <th>cate_tag_5.0</th>\n",
       "    </tr>\n",
       "  </thead>\n",
       "  <tbody>\n",
       "    <tr>\n",
       "      <th>0</th>\n",
       "      <td>0.6667</td>\n",
       "      <td>0.0</td>\n",
       "      <td>0.0</td>\n",
       "      <td>0.0</td>\n",
       "      <td>40</td>\n",
       "      <td>0.000010</td>\n",
       "      <td>0</td>\n",
       "      <td>0</td>\n",
       "      <td>0</td>\n",
       "      <td>0</td>\n",
       "      <td>...</td>\n",
       "      <td>0</td>\n",
       "      <td>0</td>\n",
       "      <td>0</td>\n",
       "      <td>0</td>\n",
       "      <td>0</td>\n",
       "      <td>0</td>\n",
       "      <td>0</td>\n",
       "      <td>1</td>\n",
       "      <td>0</td>\n",
       "      <td>0</td>\n",
       "    </tr>\n",
       "    <tr>\n",
       "      <th>1</th>\n",
       "      <td>0.6000</td>\n",
       "      <td>0.0</td>\n",
       "      <td>0.0</td>\n",
       "      <td>0.0</td>\n",
       "      <td>52</td>\n",
       "      <td>0.000000</td>\n",
       "      <td>0</td>\n",
       "      <td>0</td>\n",
       "      <td>0</td>\n",
       "      <td>0</td>\n",
       "      <td>...</td>\n",
       "      <td>0</td>\n",
       "      <td>0</td>\n",
       "      <td>0</td>\n",
       "      <td>0</td>\n",
       "      <td>0</td>\n",
       "      <td>0</td>\n",
       "      <td>0</td>\n",
       "      <td>0</td>\n",
       "      <td>0</td>\n",
       "      <td>1</td>\n",
       "    </tr>\n",
       "    <tr>\n",
       "      <th>2</th>\n",
       "      <td>1.0000</td>\n",
       "      <td>0.0</td>\n",
       "      <td>0.0</td>\n",
       "      <td>0.0</td>\n",
       "      <td>49</td>\n",
       "      <td>0.000000</td>\n",
       "      <td>0</td>\n",
       "      <td>0</td>\n",
       "      <td>0</td>\n",
       "      <td>0</td>\n",
       "      <td>...</td>\n",
       "      <td>0</td>\n",
       "      <td>0</td>\n",
       "      <td>0</td>\n",
       "      <td>0</td>\n",
       "      <td>0</td>\n",
       "      <td>0</td>\n",
       "      <td>1</td>\n",
       "      <td>0</td>\n",
       "      <td>0</td>\n",
       "      <td>0</td>\n",
       "    </tr>\n",
       "    <tr>\n",
       "      <th>3</th>\n",
       "      <td>1.0000</td>\n",
       "      <td>0.0</td>\n",
       "      <td>0.0</td>\n",
       "      <td>0.0</td>\n",
       "      <td>57</td>\n",
       "      <td>0.000000</td>\n",
       "      <td>0</td>\n",
       "      <td>0</td>\n",
       "      <td>0</td>\n",
       "      <td>0</td>\n",
       "      <td>...</td>\n",
       "      <td>0</td>\n",
       "      <td>0</td>\n",
       "      <td>0</td>\n",
       "      <td>0</td>\n",
       "      <td>0</td>\n",
       "      <td>0</td>\n",
       "      <td>0</td>\n",
       "      <td>0</td>\n",
       "      <td>0</td>\n",
       "      <td>1</td>\n",
       "    </tr>\n",
       "    <tr>\n",
       "      <th>4</th>\n",
       "      <td>1.0000</td>\n",
       "      <td>0.0</td>\n",
       "      <td>0.0</td>\n",
       "      <td>0.0</td>\n",
       "      <td>49</td>\n",
       "      <td>0.000000</td>\n",
       "      <td>0</td>\n",
       "      <td>0</td>\n",
       "      <td>0</td>\n",
       "      <td>0</td>\n",
       "      <td>...</td>\n",
       "      <td>0</td>\n",
       "      <td>0</td>\n",
       "      <td>0</td>\n",
       "      <td>0</td>\n",
       "      <td>0</td>\n",
       "      <td>0</td>\n",
       "      <td>1</td>\n",
       "      <td>0</td>\n",
       "      <td>0</td>\n",
       "      <td>0</td>\n",
       "    </tr>\n",
       "    <tr>\n",
       "      <th>...</th>\n",
       "      <td>...</td>\n",
       "      <td>...</td>\n",
       "      <td>...</td>\n",
       "      <td>...</td>\n",
       "      <td>...</td>\n",
       "      <td>...</td>\n",
       "      <td>...</td>\n",
       "      <td>...</td>\n",
       "      <td>...</td>\n",
       "      <td>...</td>\n",
       "      <td>...</td>\n",
       "      <td>...</td>\n",
       "      <td>...</td>\n",
       "      <td>...</td>\n",
       "      <td>...</td>\n",
       "      <td>...</td>\n",
       "      <td>...</td>\n",
       "      <td>...</td>\n",
       "      <td>...</td>\n",
       "      <td>...</td>\n",
       "      <td>...</td>\n",
       "    </tr>\n",
       "    <tr>\n",
       "      <th>69797</th>\n",
       "      <td>1.0000</td>\n",
       "      <td>0.0</td>\n",
       "      <td>0.0</td>\n",
       "      <td>0.0</td>\n",
       "      <td>32</td>\n",
       "      <td>0.000000</td>\n",
       "      <td>0</td>\n",
       "      <td>0</td>\n",
       "      <td>0</td>\n",
       "      <td>0</td>\n",
       "      <td>...</td>\n",
       "      <td>0</td>\n",
       "      <td>0</td>\n",
       "      <td>0</td>\n",
       "      <td>1</td>\n",
       "      <td>0</td>\n",
       "      <td>0</td>\n",
       "      <td>0</td>\n",
       "      <td>0</td>\n",
       "      <td>0</td>\n",
       "      <td>1</td>\n",
       "    </tr>\n",
       "    <tr>\n",
       "      <th>69798</th>\n",
       "      <td>1.0000</td>\n",
       "      <td>0.0</td>\n",
       "      <td>0.0</td>\n",
       "      <td>0.0</td>\n",
       "      <td>22</td>\n",
       "      <td>0.000000</td>\n",
       "      <td>0</td>\n",
       "      <td>0</td>\n",
       "      <td>0</td>\n",
       "      <td>0</td>\n",
       "      <td>...</td>\n",
       "      <td>0</td>\n",
       "      <td>0</td>\n",
       "      <td>0</td>\n",
       "      <td>1</td>\n",
       "      <td>0</td>\n",
       "      <td>1</td>\n",
       "      <td>0</td>\n",
       "      <td>0</td>\n",
       "      <td>0</td>\n",
       "      <td>0</td>\n",
       "    </tr>\n",
       "    <tr>\n",
       "      <th>69799</th>\n",
       "      <td>0.5714</td>\n",
       "      <td>0.0</td>\n",
       "      <td>0.0</td>\n",
       "      <td>0.0</td>\n",
       "      <td>53</td>\n",
       "      <td>0.000000</td>\n",
       "      <td>0</td>\n",
       "      <td>0</td>\n",
       "      <td>0</td>\n",
       "      <td>0</td>\n",
       "      <td>...</td>\n",
       "      <td>0</td>\n",
       "      <td>0</td>\n",
       "      <td>0</td>\n",
       "      <td>1</td>\n",
       "      <td>0</td>\n",
       "      <td>0</td>\n",
       "      <td>0</td>\n",
       "      <td>0</td>\n",
       "      <td>1</td>\n",
       "      <td>0</td>\n",
       "    </tr>\n",
       "    <tr>\n",
       "      <th>69800</th>\n",
       "      <td>1.0000</td>\n",
       "      <td>0.0</td>\n",
       "      <td>0.0</td>\n",
       "      <td>0.0</td>\n",
       "      <td>49</td>\n",
       "      <td>0.000000</td>\n",
       "      <td>0</td>\n",
       "      <td>0</td>\n",
       "      <td>0</td>\n",
       "      <td>0</td>\n",
       "      <td>...</td>\n",
       "      <td>0</td>\n",
       "      <td>0</td>\n",
       "      <td>0</td>\n",
       "      <td>1</td>\n",
       "      <td>0</td>\n",
       "      <td>1</td>\n",
       "      <td>0</td>\n",
       "      <td>0</td>\n",
       "      <td>0</td>\n",
       "      <td>0</td>\n",
       "    </tr>\n",
       "    <tr>\n",
       "      <th>69801</th>\n",
       "      <td>1.0000</td>\n",
       "      <td>0.0</td>\n",
       "      <td>0.0</td>\n",
       "      <td>0.0</td>\n",
       "      <td>12</td>\n",
       "      <td>2.412653</td>\n",
       "      <td>0</td>\n",
       "      <td>0</td>\n",
       "      <td>0</td>\n",
       "      <td>0</td>\n",
       "      <td>...</td>\n",
       "      <td>0</td>\n",
       "      <td>0</td>\n",
       "      <td>0</td>\n",
       "      <td>1</td>\n",
       "      <td>0</td>\n",
       "      <td>1</td>\n",
       "      <td>0</td>\n",
       "      <td>0</td>\n",
       "      <td>0</td>\n",
       "      <td>0</td>\n",
       "    </tr>\n",
       "  </tbody>\n",
       "</table>\n",
       "<p>69802 rows × 25 columns</p>\n",
       "</div>"
      ],
      "text/plain": [
       "       n_rate  p_rate  m_rate  adv_rate  len  keyword_7days_popular_score  \\\n",
       "0      0.6667     0.0     0.0       0.0   40                     0.000010   \n",
       "1      0.6000     0.0     0.0       0.0   52                     0.000000   \n",
       "2      1.0000     0.0     0.0       0.0   49                     0.000000   \n",
       "3      1.0000     0.0     0.0       0.0   57                     0.000000   \n",
       "4      1.0000     0.0     0.0       0.0   49                     0.000000   \n",
       "...       ...     ...     ...       ...  ...                          ...   \n",
       "69797  1.0000     0.0     0.0       0.0   32                     0.000000   \n",
       "69798  1.0000     0.0     0.0       0.0   22                     0.000000   \n",
       "69799  0.5714     0.0     0.0       0.0   53                     0.000000   \n",
       "69800  1.0000     0.0     0.0       0.0   49                     0.000000   \n",
       "69801  1.0000     0.0     0.0       0.0   12                     2.412653   \n",
       "\n",
       "       tag_AGRI  tag_ECON  tag_EDUC  tag_ENER  ...  tag_REGI  tag_SOCI  \\\n",
       "0             0         0         0         0  ...         0         0   \n",
       "1             0         0         0         0  ...         0         0   \n",
       "2             0         0         0         0  ...         0         0   \n",
       "3             0         0         0         0  ...         0         0   \n",
       "4             0         0         0         0  ...         0         0   \n",
       "...         ...       ...       ...       ...  ...       ...       ...   \n",
       "69797         0         0         0         0  ...         0         0   \n",
       "69798         0         0         0         0  ...         0         0   \n",
       "69799         0         0         0         0  ...         0         0   \n",
       "69800         0         0         0         0  ...         0         0   \n",
       "69801         0         0         0         0  ...         0         0   \n",
       "\n",
       "       tag_TECH  tag_TRAN  cate_tag_0.0  cate_tag_1.0  cate_tag_2.0  \\\n",
       "0             0         0             0             0             0   \n",
       "1             0         0             0             0             0   \n",
       "2             0         0             0             0             1   \n",
       "3             0         0             0             0             0   \n",
       "4             0         0             0             0             1   \n",
       "...         ...       ...           ...           ...           ...   \n",
       "69797         0         1             0             0             0   \n",
       "69798         0         1             0             1             0   \n",
       "69799         0         1             0             0             0   \n",
       "69800         0         1             0             1             0   \n",
       "69801         0         1             0             1             0   \n",
       "\n",
       "       cate_tag_3.0  cate_tag_4.0  cate_tag_5.0  \n",
       "0                 1             0             0  \n",
       "1                 0             0             1  \n",
       "2                 0             0             0  \n",
       "3                 0             0             1  \n",
       "4                 0             0             0  \n",
       "...             ...           ...           ...  \n",
       "69797             0             0             1  \n",
       "69798             0             0             0  \n",
       "69799             0             1             0  \n",
       "69800             0             0             0  \n",
       "69801             0             0             0  \n",
       "\n",
       "[69802 rows x 25 columns]"
      ]
     },
     "execution_count": 19,
     "metadata": {},
     "output_type": "execute_result"
    }
   ],
   "source": [
    "data_model"
   ]
  },
  {
   "cell_type": "markdown",
   "metadata": {},
   "source": [
    "### Unbalanced positive and negative samples"
   ]
  },
  {
   "cell_type": "code",
   "execution_count": 20,
   "metadata": {},
   "outputs": [],
   "source": [
    "X_model = data_model\n",
    "# data_used['y_tag'] = data_cate[\"y_tag\"].astype(np.object)\n",
    "y_model = data_used['y_tag']"
   ]
  },
  {
   "cell_type": "code",
   "execution_count": 21,
   "metadata": {},
   "outputs": [],
   "source": [
    "# 通过过抽样和欠抽样解决样本不均衡\n",
    "# SMOTE\n",
    "\n",
    "smo = SMOTE(random_state=0)\n",
    "X_sampling, y_sampling = smo.fit_resample(X_model, y_model)"
   ]
  },
  {
   "cell_type": "code",
   "execution_count": null,
   "metadata": {},
   "outputs": [],
   "source": [
    "# 通过组合/集成方法解决样本不均衡\n",
    "# 组合/集成方法指的是在每次生成训练集时使用所有分类中的小样本量，\n",
    "# 同时从分类中的大样本量中随机抽取数据来与小样本量合并构成训练集，\n",
    "# 这样反复多次会得到很多训练集和训练模型。\n",
    "# 最后在应用时，使用组合方法（例如投票、加权投票等）产生分类预测结果。"
   ]
  },
  {
   "cell_type": "markdown",
   "metadata": {},
   "source": [
    "### train test split"
   ]
  },
  {
   "cell_type": "code",
   "execution_count": 55,
   "metadata": {},
   "outputs": [],
   "source": [
    "# 保证划分后训练集和测试集的正负样本比和原始数据一致\n",
    "# stratify = data_y \n",
    "# train:valid:test 6:2:2\n",
    "X_train_all, X_test, y_train_all, y_test = train_test_split(X_sampling, y_sampling, test_size=0.2, random_state=0, stratify=y_sampling)\n",
    "X_train, X_valid, y_train, y_valid = train_test_split(X_train_all, y_train_all, test_size=0.25, random_state=0, stratify=y_train_all)"
   ]
  },
  {
   "cell_type": "code",
   "execution_count": 126,
   "metadata": {},
   "outputs": [],
   "source": [
    "X_train.to_excel('X_train.xlsx')"
   ]
  },
  {
   "cell_type": "code",
   "execution_count": 127,
   "metadata": {},
   "outputs": [],
   "source": [
    "y_train.to_excel('y_train.xlsx')"
   ]
  },
  {
   "cell_type": "code",
   "execution_count": 128,
   "metadata": {},
   "outputs": [],
   "source": [
    "X_valid.to_excel('X_valid.xlsx')"
   ]
  },
  {
   "cell_type": "code",
   "execution_count": 129,
   "metadata": {},
   "outputs": [],
   "source": [
    "y_valid.to_excel('y_valid.xlsx')"
   ]
  },
  {
   "cell_type": "code",
   "execution_count": 130,
   "metadata": {},
   "outputs": [],
   "source": [
    "X_test.to_excel('X_test.xlsx')"
   ]
  },
  {
   "cell_type": "code",
   "execution_count": 131,
   "metadata": {},
   "outputs": [],
   "source": [
    "y_test.to_excel('y_test.xlsx')"
   ]
  },
  {
   "cell_type": "code",
   "execution_count": 132,
   "metadata": {},
   "outputs": [],
   "source": [
    "X_train_all.to_excel('X_train_all.xlsx')"
   ]
  },
  {
   "cell_type": "code",
   "execution_count": 133,
   "metadata": {},
   "outputs": [],
   "source": [
    "y_train_all.to_excel('y_train_all.xlsx')"
   ]
  },
  {
   "cell_type": "code",
   "execution_count": null,
   "metadata": {},
   "outputs": [],
   "source": [
    "# 逻辑回归\n",
    "# 决策树\n",
    "# 神经网络\n",
    "# k近邻\n",
    "# SVM"
   ]
  },
  {
   "cell_type": "code",
   "execution_count": 2,
   "metadata": {},
   "outputs": [],
   "source": [
    "from sklearn.linear_model import LogisticRegression\n",
    "from sklearn import tree\n",
    "from sklearn.ensemble import RandomForestClassifier\n",
    "from sklearn.model_selection import GridSearchCV, KFold, learning_curve\n",
    "from sklearn.metrics import confusion_matrix, ConfusionMatrixDisplay, cohen_kappa_score, f1_score, accuracy_score, precision_score\n",
    "from xgboost import XGBClassifier, plot_importance\n",
    "import lightgbm as lgb"
   ]
  },
  {
   "cell_type": "code",
   "execution_count": 3,
   "metadata": {},
   "outputs": [],
   "source": [
    "X_train_all = pd.read_excel('X_train_all.xlsx', index_col=0)\n",
    "y_train_all = pd.read_excel('y_train_all.xlsx', index_col=0)\n",
    "X_train = pd.read_excel('X_train.xlsx', index_col=0)\n",
    "y_train = pd.read_excel('y_train.xlsx', index_col=0)\n",
    "X_valid = pd.read_excel('X_valid.xlsx', index_col=0)\n",
    "y_valid = pd.read_excel('y_valid.xlsx', index_col=0)\n",
    "X_test = pd.read_excel('X_test.xlsx', index_col=0)\n",
    "y_test = pd.read_excel('y_test.xlsx', index_col=0)"
   ]
  },
  {
   "cell_type": "markdown",
   "metadata": {},
   "source": [
    "### Model construction"
   ]
  },
  {
   "cell_type": "markdown",
   "metadata": {},
   "source": [
    "#### Logistic Regression"
   ]
  },
  {
   "cell_type": "code",
   "execution_count": 65,
   "metadata": {},
   "outputs": [
    {
     "name": "stdout",
     "output_type": "stream",
     "text": [
      "{'C': 0.2611111111111111}\n",
      "0.7068470312724162\n"
     ]
    }
   ],
   "source": [
    "# 调整 C\n",
    "# C=0.26\n",
    "# 0.7068470312724162\n",
    "param_grid = {'C':np.linspace(0.05, 1, 19)}\n",
    "lr_clf = LogisticRegression(penalty='l1', \n",
    "                            solver='liblinear', \n",
    "                            C=i, \n",
    "                            max_iter=1000)\n",
    "GS = GridSearchCV(lr_clf, param_grid, scoring='accuracy', cv=10) \n",
    "GS.fit(X_train_all, y_train_all)\n",
    "print(GS.best_params_)\n",
    "print(GS.best_score_)"
   ]
  },
  {
   "cell_type": "code",
   "execution_count": 74,
   "metadata": {},
   "outputs": [
    {
     "data": {
      "text/plain": [
       "0.7066464635757873"
      ]
     },
     "execution_count": 74,
     "metadata": {},
     "output_type": "execute_result"
    }
   ],
   "source": [
    "# LR: 0.7066464635757873\n",
    "LR_clf = LogisticRegression(penalty='l1', solver='liblinear', C=0.26, max_iter=1000)\n",
    "cross_val_score(LR_clf, X_train_all, y_train_all, scoring='accuracy', cv=10).mean()"
   ]
  },
  {
   "cell_type": "code",
   "execution_count": 79,
   "metadata": {},
   "outputs": [
    {
     "data": {
      "image/png": "[encoded data removed]",
      "text/plain": [
       "<Figure size 432x288 with 2 Axes>"
      ]
     },
     "metadata": {
      "needs_background": "light"
     },
     "output_type": "display_data"
    }
   ],
   "source": [
    "# predict\n",
    "LR_clf.fit(X_train_all, y_train_all)\n",
    "y_pred = LR_clf.predict(X_test)\n",
    "LR_cm = confusion_matrix(y_test, y_pred)\n",
    "\n",
    "cm_display = ConfusionMatrixDisplay(LR_cm).plot()"
   ]
  },
  {
   "cell_type": "code",
   "execution_count": 84,
   "metadata": {},
   "outputs": [
    {
     "name": "stdout",
     "output_type": "stream",
     "text": [
      "分类准确率为： 0.7079558323895809\n",
      "f1值为： 0.699113022319744\n",
      "cohen_kappa系数为： 0.41591166477916197\n"
     ]
    }
   ],
   "source": [
    "print('分类准确率为：', accuracy_score(y_test, y_pred))\n",
    "print('f1值为：', f1_score(y_test, y_pred, average='macro'))\n",
    "print('cohen_kappa系数为：', cohen_kappa_score(y_test, y_pred))"
   ]
  },
  {
   "cell_type": "code",
   "execution_count": 163,
   "metadata": {},
   "outputs": [
    {
     "data": {
      "image/png": "[encoded data removed]",
      "text/plain": [
       "<Figure size 432x432 with 1 Axes>"
      ]
     },
     "metadata": {
      "needs_background": "light"
     },
     "output_type": "display_data"
    }
   ],
   "source": [
    "# 确定 C=0.6\n",
    "# lr1 = []\n",
    "# lr2 = []\n",
    "# l1test = []\n",
    "# l2test = []\n",
    "# for i in np.linspace(0.05, 1, 19):\n",
    "#     lr1_clf = LogisticRegression(penalty='l1', solver='liblinear', C=i, max_iter=1000)\n",
    "#     lr2_clf = LogisticRegression(penalty='l2', solver='liblinear', C=i, max_iter=1000)\n",
    "    \n",
    "#     lr1_clf = lr1_clf.fit(X_train, y_train)\n",
    "#     lr1.append(accuracy_score(lr1_clf.predict(X_train), y_train))\n",
    "#     l1test.append(accuracy_score(lr1_clf.predict(X_valid), y_valid))\n",
    "#     lr2_clf = lr2_clf.fit(X_train, y_train)\n",
    "#     lr2.append(accuracy_score(lr2_clf.predict(X_train), y_train))\n",
    "#     l2test.append(accuracy_score(lr2_clf.predict(X_valid), y_valid))\n",
    "# graph = [lr1, lr2, l1test, l2test]\n",
    "# color = ['green', 'black', 'lightgreen', 'gray']\n",
    "# label = ['L1', 'L2', 'L1test', 'L2test']\n",
    "# plt.figure(figsize=(6, 6))\n",
    "# for i in range(len(graph)):\n",
    "#     plt.plot(np.linspace(0.05, 1, 19), graph[i], color[i], label=label[i])\n",
    "# plt.legend(loc=4)\n",
    "# plt.show()"
   ]
  },
  {
   "cell_type": "markdown",
   "metadata": {},
   "source": [
    "#### Decision Tree"
   ]
  },
  {
   "cell_type": "code",
   "execution_count": 67,
   "metadata": {},
   "outputs": [
    {
     "name": "stdout",
     "output_type": "stream",
     "text": [
      "{'max_depth': 30}\n",
      "0.7396895956373749\n"
     ]
    }
   ],
   "source": [
    "# 调整 max_depth\n",
    "# max_depth=30\n",
    "# 0.7396895956373749\n",
    "param_grid = {'max_depth':np.arange(1, 1+30, 1)}\n",
    "tree_clf = tree.DecisionTreeClassifier(criterion='gini', \n",
    "                                       random_state=0, \n",
    "                                       splitter=\"random\")\n",
    "GS = GridSearchCV(tree_clf, param_grid, scoring='accuracy', cv=10) \n",
    "GS.fit(X_train_all, y_train_all)\n",
    "print(GS.best_params_)\n",
    "print(GS.best_score_)"
   ]
  },
  {
   "cell_type": "code",
   "execution_count": 69,
   "metadata": {},
   "outputs": [
    {
     "name": "stdout",
     "output_type": "stream",
     "text": [
      "{'min_samples_leaf': 1}\n",
      "0.7396895956373749\n"
     ]
    }
   ],
   "source": [
    "# 调整 min_samples_leaf\n",
    "# 准确率不变，不设置\n",
    "param_grid = {'min_samples_leaf':np.arange(1, 1+10, 1)}\n",
    "tree_clf = tree.DecisionTreeClassifier(criterion='gini', \n",
    "                                       random_state=0, \n",
    "                                       splitter=\"random\",\n",
    "                                       max_depth=30)\n",
    "GS = GridSearchCV(tree_clf, param_grid, scoring='accuracy', cv=10) \n",
    "GS.fit(X_train_all, y_train_all)\n",
    "print(GS.best_params_)\n",
    "print(GS.best_score_)"
   ]
  },
  {
   "cell_type": "code",
   "execution_count": 70,
   "metadata": {},
   "outputs": [
    {
     "name": "stdout",
     "output_type": "stream",
     "text": [
      "{'min_samples_split': 4}\n",
      "0.74053897359777\n"
     ]
    }
   ],
   "source": [
    "# 调整 min_samples_split\n",
    "# min_samples_split=4\n",
    "# 0.74053897359777\n",
    "param_grid = {'min_samples_split':np.arange(2, 2+20, 1)}\n",
    "tree_clf = tree.DecisionTreeClassifier(criterion='gini', \n",
    "                                       random_state=0, \n",
    "                                       splitter=\"random\",\n",
    "                                       max_depth=30)\n",
    "GS = GridSearchCV(tree_clf, param_grid, scoring='accuracy', cv=10) \n",
    "GS.fit(X_train_all, y_train_all)\n",
    "print(GS.best_params_)\n",
    "print(GS.best_score_)"
   ]
  },
  {
   "cell_type": "code",
   "execution_count": 71,
   "metadata": {},
   "outputs": [
    {
     "name": "stdout",
     "output_type": "stream",
     "text": [
      "{'max_features': 25}\n",
      "0.74053897359777\n"
     ]
    }
   ],
   "source": [
    "# 调整 max_features\n",
    "# 准确率不变，不设置\n",
    "param_grid = {'max_features':np.arange(5, 26, 1)}\n",
    "tree_clf = tree.DecisionTreeClassifier(criterion='gini', \n",
    "                                       random_state=0, \n",
    "                                       splitter=\"random\",\n",
    "                                       max_depth=30,\n",
    "                                       min_samples_split=4)\n",
    "GS = GridSearchCV(tree_clf, param_grid, scoring='accuracy', cv=10) \n",
    "GS.fit(X_train_all, y_train_all)\n",
    "print(GS.best_params_)\n",
    "print(GS.best_score_)"
   ]
  },
  {
   "cell_type": "code",
   "execution_count": 85,
   "metadata": {},
   "outputs": [
    {
     "data": {
      "text/plain": [
       "0.74053897359777"
      ]
     },
     "execution_count": 85,
     "metadata": {},
     "output_type": "execute_result"
    }
   ],
   "source": [
    "# Decision tree: 0.74053897359777\n",
    "Tree_clf = tree.DecisionTreeClassifier(criterion='gini', \n",
    "                                       random_state=0, \n",
    "                                       splitter=\"random\",\n",
    "                                       max_depth=30,\n",
    "                                       min_samples_split=4)\n",
    "cross_val_score(Tree_clf, X_train_all, y_train_all, scoring='accuracy', cv=10).mean()"
   ]
  },
  {
   "cell_type": "code",
   "execution_count": 86,
   "metadata": {},
   "outputs": [
    {
     "data": {
      "image/png": "[encoded data removed]",
      "text/plain": [
       "<Figure size 432x288 with 2 Axes>"
      ]
     },
     "metadata": {
      "needs_background": "light"
     },
     "output_type": "display_data"
    }
   ],
   "source": [
    "# predict\n",
    "Tree_clf.fit(X_train_all, y_train_all)\n",
    "y_pred = Tree_clf.predict(X_test)\n",
    "Tree_cm = confusion_matrix(y_test, y_pred)\n",
    "\n",
    "cm_display = ConfusionMatrixDisplay(Tree_cm).plot()"
   ]
  },
  {
   "cell_type": "code",
   "execution_count": 87,
   "metadata": {},
   "outputs": [
    {
     "name": "stdout",
     "output_type": "stream",
     "text": [
      "分类准确率为： 0.739524348810872\n",
      "f1值为： 0.7339778782086568\n",
      "cohen_kappa系数为： 0.47904869762174407\n"
     ]
    }
   ],
   "source": [
    "print('分类准确率为：', accuracy_score(y_test, y_pred))\n",
    "print('f1值为：', f1_score(y_test, y_pred, average='macro'))\n",
    "print('cohen_kappa系数为：', cohen_kappa_score(y_test, y_pred))"
   ]
  },
  {
   "cell_type": "code",
   "execution_count": 173,
   "metadata": {},
   "outputs": [
    {
     "data": {
      "image/png": "[encoded data removed]",
      "text/plain": [
       "<Figure size 432x432 with 1 Axes>"
      ]
     },
     "metadata": {
      "needs_background": "light"
     },
     "output_type": "display_data"
    }
   ],
   "source": [
    "# criterion='gini' max_depth=28\n",
    "# tree1 = []\n",
    "# tree2 = []\n",
    "# tree1_test = [] \n",
    "# tree2_test = [] \n",
    "# for i in range(30):\n",
    "#     tree1_clf = tree.DecisionTreeClassifier(max_depth=i+1, criterion='gini', random_state=0, splitter=\"random\")\n",
    "#     tree2_clf = tree.DecisionTreeClassifier(max_depth=i+1, criterion='entropy', random_state=0, splitter=\"random\")\n",
    "    \n",
    "#     tree1_clf = tree1_clf.fit(X_train, y_train) \n",
    "#     tree1.append(accuracy_score(tree1_clf.predict(X_train), y_train))\n",
    "#     tree1_test.append(accuracy_score(tree1_clf.predict(X_valid), y_valid))\n",
    "#     tree2_clf = tree2_clf.fit(X_train, y_train) \n",
    "#     tree2.append(accuracy_score(tree2_clf.predict(X_train), y_train))\n",
    "#     tree2_test.append(accuracy_score(tree2_clf.predict(X_valid), y_valid))\n",
    "# graph = [tree1, tree2, tree1_test, tree2_test]\n",
    "# color = ['green', 'black', 'lightgreen', 'gray']\n",
    "# label = ['Tree1', 'Tree2', 'Tree1_test', 'Tree2_test']\n",
    "# plt.figure(figsize=(6, 6))\n",
    "# for i in range(len(graph)):\n",
    "#     plt.plot(range(30), graph[i], color[i], label=label[i])\n",
    "# plt.legend(loc=4)\n",
    "# plt.show()\n",
    "\n",
    "# plt.plot(range(1,11),test,color=\"red\",label=\"max_depth\")\n",
    "# plt.legend() \n",
    "# plt.show()"
   ]
  },
  {
   "cell_type": "markdown",
   "metadata": {},
   "source": [
    "#### Random Forest"
   ]
  },
  {
   "cell_type": "code",
   "execution_count": null,
   "metadata": {},
   "outputs": [],
   "source": [
    "# grid search\n",
    "# param_grid\n",
    "# param_grid = {'n_estimators':np.arange(0, 200, 10)}\n",
    "# param_grid = {'max_depth':np.arange(1, 20, 1)}\n",
    "# param_grid = {'max_leaf_nodes':np.arange(25, 50, 1)}\n",
    "# param_grid = {'criterion':['gini', 'entropy']}\n",
    "# param_grid = {'min_samples_split':np.arange(2, 2+20, 1)}\n",
    "# param_grid = {'min_samples_leaf':np.arange(1, 1+10, 1)}\n",
    "# param_grid = {'max_features':np.arange(5, 30, 1)}"
   ]
  },
  {
   "cell_type": "code",
   "execution_count": 35,
   "metadata": {},
   "outputs": [
    {
     "data": {
      "image/png": "[encoded data removed]",
      "text/plain": [
       "<Figure size 432x432 with 1 Axes>"
      ]
     },
     "metadata": {
      "needs_background": "light"
     },
     "output_type": "display_data"
    }
   ],
   "source": [
    "# 调整 n_estimators\n",
    "# n_estimators=32\n",
    "# rf = []\n",
    "# rf_test = []\n",
    "# for i in range(0, 200, 10):\n",
    "#     rf_clf = RandomForestClassifier(n_estimators=i+1, n_jobs=-1, random_state=0)\n",
    "#     rf_clf = rf_clf.fit(X_train, y_train)\n",
    "\n",
    "#     rf.append(accuracy_score(rf_clf.predict(X_train), y_train))\n",
    "#     rf_test.append(accuracy_score(rf_clf.predict(X_valid), y_valid))\n",
    "# graph = [rf, rf_test]\n",
    "# color = ['green', 'lightgreen']\n",
    "# label = ['RF', 'RF_test']\n",
    "# plt.figure(figsize=(6, 6))\n",
    "# for i in range(len(graph)):\n",
    "#     plt.plot(range(0, 200, 10), graph[i], color[i], label=label[i])\n",
    "# plt.legend(loc=4)\n",
    "# plt.show()    \n",
    "#     score = cross_val_score(rf_clf, X_test, y_test, scoring='accuracy', cv=10).mean()"
   ]
  },
  {
   "cell_type": "code",
   "execution_count": 90,
   "metadata": {},
   "outputs": [
    {
     "name": "stdout",
     "output_type": "stream",
     "text": [
      "{'max_depth': 30}\n",
      "0.754683438733785\n"
     ]
    }
   ],
   "source": [
    "# 调整 max_depth\n",
    "# max_depth=30\n",
    "# 0.754683438733785\n",
    "param_grid = {'max_depth':np.arange(1, 40, 1)}\n",
    "rfc = RandomForestClassifier(n_estimators=32, \n",
    "                             random_state=0) \n",
    "GS = GridSearchCV(rfc, param_grid, scoring='accuracy', cv=10) \n",
    "GS.fit(X_train_all, y_train_all)\n",
    "print(GS.best_params_)\n",
    "print(GS.best_score_)"
   ]
  },
  {
   "cell_type": "code",
   "execution_count": 91,
   "metadata": {},
   "outputs": [
    {
     "name": "stdout",
     "output_type": "stream",
     "text": [
      "{'max_features': 23}\n",
      "0.7567714805344812\n"
     ]
    }
   ],
   "source": [
    "# 调整 max_features\n",
    "# max_features=23\n",
    "# 0.7567714805344812\n",
    "param_grid = {'max_features':np.arange(5, 26, 1)}\n",
    "rfc = RandomForestClassifier(n_estimators=32, \n",
    "                             max_depth=30,\n",
    "                             random_state=0) \n",
    "GS = GridSearchCV(rfc, param_grid, scoring='accuracy', cv=10) \n",
    "GS.fit(X_train_all, y_train_all)\n",
    "print(GS.best_params_)\n",
    "print(GS.best_score_)"
   ]
  },
  {
   "cell_type": "code",
   "execution_count": 93,
   "metadata": {},
   "outputs": [
    {
     "name": "stdout",
     "output_type": "stream",
     "text": [
      "{'min_samples_leaf': 2}\n",
      "0.7575618656216753\n"
     ]
    }
   ],
   "source": [
    "# 调整 min_samples_leaf\n",
    "# min_samples_leaf=2\n",
    "# 0.7575618656216753\n",
    "param_grid = {'min_samples_leaf':np.arange(1, 1+20, 1)}\n",
    "rfc = RandomForestClassifier(n_estimators=32, \n",
    "                             max_depth=30,\n",
    "                             max_features=23, \n",
    "                             random_state=0) \n",
    "GS = GridSearchCV(rfc, param_grid, scoring='accuracy', cv=10) \n",
    "GS.fit(X_train_all, y_train_all)\n",
    "print(GS.best_params_)\n",
    "print(GS.best_score_)"
   ]
  },
  {
   "cell_type": "code",
   "execution_count": 94,
   "metadata": {},
   "outputs": [
    {
     "name": "stdout",
     "output_type": "stream",
     "text": [
      "{'min_samples_split': 2}\n",
      "0.7575618656216753\n"
     ]
    }
   ],
   "source": [
    "# 调整 min_samples_split\n",
    "# 准确率不变，不设置\n",
    "param_grid = {'min_samples_split':np.arange(2, 2+20, 1)}\n",
    "rfc = RandomForestClassifier(n_estimators=32, \n",
    "                             max_depth=30,\n",
    "                             max_features=23, \n",
    "                             min_samples_leaf=2, \n",
    "                             random_state=0) \n",
    "GS = GridSearchCV(rfc, param_grid, scoring='accuracy', cv=10) \n",
    "GS.fit(X_train_all, y_train_all)\n",
    "print(GS.best_params_)\n",
    "print(GS.best_score_)"
   ]
  },
  {
   "cell_type": "code",
   "execution_count": 95,
   "metadata": {},
   "outputs": [
    {
     "name": "stdout",
     "output_type": "stream",
     "text": [
      "{'criterion': 'gini'}\n",
      "0.7575618656216753\n"
     ]
    }
   ],
   "source": [
    "# 调整 criterion\n",
    "# 准确率不变，不设置\n",
    "param_grid = {'criterion':['gini', 'entropy']}\n",
    "rfc = RandomForestClassifier(n_estimators=32, \n",
    "                             max_depth=30,\n",
    "                             max_features=23, \n",
    "                             min_samples_leaf=2, \n",
    "                             random_state=0) \n",
    "GS = GridSearchCV(rfc, param_grid, scoring='accuracy', cv=10) \n",
    "GS.fit(X_train_all, y_train_all)\n",
    "print(GS.best_params_)\n",
    "print(GS.best_score_)"
   ]
  },
  {
   "cell_type": "code",
   "execution_count": 96,
   "metadata": {},
   "outputs": [
    {
     "data": {
      "text/plain": [
       "0.7575618656216753"
      ]
     },
     "execution_count": 96,
     "metadata": {},
     "output_type": "execute_result"
    }
   ],
   "source": [
    "RF_clf = RandomForestClassifier(n_estimators=32, \n",
    "                                max_depth=30,\n",
    "                                max_features=23, \n",
    "                                min_samples_leaf=2, \n",
    "                                random_state=0) \n",
    "cross_val_score(RF_clf, X_train_all, y_train_all, scoring='accuracy', cv=10).mean()"
   ]
  },
  {
   "cell_type": "code",
   "execution_count": 97,
   "metadata": {},
   "outputs": [
    {
     "data": {
      "image/png": "[encoded data removed]",
      "text/plain": [
       "<Figure size 432x288 with 2 Axes>"
      ]
     },
     "metadata": {
      "needs_background": "light"
     },
     "output_type": "display_data"
    }
   ],
   "source": [
    "# predict\n",
    "RF_clf.fit(X_train_all, y_train_all)\n",
    "y_pred = RF_clf.predict(X_test)\n",
    "RF_cm = confusion_matrix(y_test, y_pred)\n",
    "\n",
    "cm_display = ConfusionMatrixDisplay(RF_cm).plot()"
   ]
  },
  {
   "cell_type": "code",
   "execution_count": 98,
   "metadata": {},
   "outputs": [
    {
     "name": "stdout",
     "output_type": "stream",
     "text": [
      "分类准确率为： 0.7579747074367686\n",
      "f1值为： 0.7532481975671306\n",
      "cohen_kappa系数为： 0.5159494148735372\n"
     ]
    }
   ],
   "source": [
    "print('分类准确率为：', accuracy_score(y_test, y_pred))\n",
    "print('f1值为：', f1_score(y_test, y_pred, average='macro'))\n",
    "print('cohen_kappa系数为：', cohen_kappa_score(y_test, y_pred))"
   ]
  },
  {
   "cell_type": "markdown",
   "metadata": {},
   "source": [
    "#### XGBoost"
   ]
  },
  {
   "cell_type": "code",
   "execution_count": 123,
   "metadata": {},
   "outputs": [
    {
     "name": "stdout",
     "output_type": "stream",
     "text": [
      "0.0019261837005615234\n",
      "0.7461896299027048\n"
     ]
    }
   ],
   "source": [
    "start_time = time.time()\n",
    "xgb_clf = XGBClassifier(learning_rate=0.1,\n",
    "                        n_estimators=300,\n",
    "                        max_depth=5,\n",
    "                        min_child_weight=1,\n",
    "                        gamma=0,\n",
    "                        subsample=0.8,\n",
    "                        colsample_bytree=0.8,\n",
    "                        reg_alpha=0, \n",
    "                        reg_lambda=1, \n",
    "                        seed=1997)\n",
    "print(time.time()-start_time)\n",
    "print(cross_val_score(xgb_clf, X_train_all, y_train_all, scoring='accuracy', cv=10).mean())"
   ]
  },
  {
   "cell_type": "code",
   "execution_count": 143,
   "metadata": {},
   "outputs": [
    {
     "data": {
      "image/png": "[encoded data removed]",
      "text/plain": [
       "<Figure size 432x288 with 1 Axes>"
      ]
     },
     "metadata": {
      "needs_background": "light"
     },
     "output_type": "display_data"
    }
   ],
   "source": [
    "def plot_learning_curve(estimator, title, X, y, \n",
    "                        ax=None, \n",
    "                        ylim=None, \n",
    "                        cv=None, \n",
    "                        n_jobs=None):\n",
    "    train_sizes, train_scores, test_scores = learning_curve(estimator, X, y, \n",
    "                                                            shuffle=True, \n",
    "                                                            cv=cv, \n",
    "                                                            random_state=0, \n",
    "                                                            n_jobs=n_jobs)\n",
    "    if ax == None:\n",
    "        ax = plt.gca()\n",
    "    else:\n",
    "        ax = plt.figure()\n",
    "    ax.set_title(title)\n",
    "    if ylim is not None:\n",
    "        ax.set_ylim(*ylim)\n",
    "    ax.set_xlabel(\"Training examples\")\n",
    "    ax.set_ylabel(\"Score\")\n",
    "    ax.grid() #绘制网格，不是必须\n",
    "    ax.plot(train_sizes, np.mean(train_scores, axis=1), 'o-', \n",
    "            color=\"r\", label=\"Training score\")\n",
    "    ax.plot(train_sizes, np.mean(test_scores, axis=1), 'o-', \n",
    "            color=\"g\", label=\"Testing score\")\n",
    "    ax.legend(loc=\"best\")\n",
    "    return ax\n",
    "\n",
    "\n",
    "cv = KFold(n_splits=10, shuffle=True, random_state=0)\n",
    "\n",
    "plot_learning_curve(XGBClassifier(n_estimators=100, random_state=0), \"XGB\", \n",
    "                    X_train_all, y_train_all, ax=None, cv=cv)\n",
    "# 注意这里的test_score是交叉验证里分出来的测试集的分数,而非验证集的分数\n",
    "plt.show()"
   ]
  },
  {
   "cell_type": "code",
   "execution_count": 148,
   "metadata": {},
   "outputs": [
    {
     "data": {
      "image/png": "[encoded data removed]",
      "text/plain": [
       "<Figure size 432x432 with 1 Axes>"
      ]
     },
     "metadata": {
      "needs_background": "light"
     },
     "output_type": "display_data"
    }
   ],
   "source": [
    "# 调整 n_estimators\n",
    "# n_estimators=200\n",
    "xgb = []\n",
    "xgb_test = []\n",
    "for i in range(0, 300, 10):\n",
    "    xgb_clf = XGBClassifier(n_estimators=i+1, n_jobs=-1, random_state=0)\n",
    "    xgb_clf = xgb_clf.fit(X_train, y_train)\n",
    "\n",
    "    xgb.append(accuracy_score(xgb_clf.predict(X_train), y_train))\n",
    "    xgb_test.append(accuracy_score(xgb_clf.predict(X_valid), y_valid))\n",
    "graph = [xgb, xgb_test]\n",
    "color = ['green', 'lightgreen']\n",
    "label = ['XGB', 'XGB_test']\n",
    "plt.figure(figsize=(6, 6))\n",
    "for i in range(len(graph)):\n",
    "    plt.plot(range(0, 300, 10), graph[i], color[i], label=label[i])\n",
    "plt.legend(loc=4)\n",
    "plt.show()    "
   ]
  },
  {
   "cell_type": "code",
   "execution_count": 149,
   "metadata": {},
   "outputs": [
    {
     "data": {
      "text/plain": [
       "0.7542233383026876"
      ]
     },
     "execution_count": 149,
     "metadata": {},
     "output_type": "execute_result"
    }
   ],
   "source": [
    "xgb_clf = XGBClassifier(n_estimators=200, random_state=0)\n",
    "cross_val_score(xgb_clf, X_train_all, y_train_all, scoring='accuracy', cv=10).mean()"
   ]
  },
  {
   "cell_type": "code",
   "execution_count": null,
   "metadata": {},
   "outputs": [],
   "source": [
    "# 调整 n_estimators\n",
    "# n_estimators=200\n",
    "# 0.7542233383026876\n",
    "param_grid = {'n_estimators':[100, 125, 150, 175, 200, 225, 250, 275, 300]}\n",
    "# xgb_clf = XGBClassifier(learning_rate=0.1,\n",
    "#                         max_depth=5,\n",
    "#                         min_child_weight=1,\n",
    "#                         gamma=0,\n",
    "#                         subsample=0.8,\n",
    "#                         colsample_bytree=0.8,\n",
    "#                         reg_alpha=0, \n",
    "#                         reg_lambda=1, \n",
    "#                         seed=1997)\n",
    "GS = GridSearchCV(xgb_clf, param_grid, scoring='accuracy', cv=10) \n",
    "GS.fit(X_train_all, y_train_all)\n",
    "print(GS.best_params_)\n",
    "print(GS.best_score_)"
   ]
  },
  {
   "cell_type": "code",
   "execution_count": 150,
   "metadata": {},
   "outputs": [
    {
     "name": "stdout",
     "output_type": "stream",
     "text": [
      "{'subsample': 0.7}\n",
      "0.7557569150135756\n"
     ]
    }
   ],
   "source": [
    "# 调整 subsample\n",
    "# subsample=0.7\n",
    "# 0.7557569150135756\n",
    "param_grid = {'subsample': [0.6, 0.7, 0.8, 0.9]}\n",
    "xgb_clf = XGBClassifier(n_estimators=200, random_state=0)\n",
    "GS = GridSearchCV(xgb_clf, param_grid, scoring='accuracy', cv=10) \n",
    "GS.fit(X_train_all, y_train_all)\n",
    "print(GS.best_params_)\n",
    "print(GS.best_score_)"
   ]
  },
  {
   "cell_type": "code",
   "execution_count": 151,
   "metadata": {},
   "outputs": [
    {
     "name": "stdout",
     "output_type": "stream",
     "text": [
      "{'gamma': 0.6}\n",
      "0.7564293143543674\n"
     ]
    }
   ],
   "source": [
    "# 调整 gamma\n",
    "# gamma=0.6\n",
    "# 0.7564293143543674\n",
    "param_grid = {'gamma': [0.1, 0.2, 0.3, 0.4, 0.5, 0.6]}\n",
    "xgb_clf = XGBClassifier(n_estimators=200, \n",
    "                        subsample=0.7,\n",
    "                        random_state=0)\n",
    "GS = GridSearchCV(xgb_clf, param_grid, scoring='accuracy', cv=10) \n",
    "GS.fit(X_train_all, y_train_all)\n",
    "print(GS.best_params_)\n",
    "print(GS.best_score_)"
   ]
  },
  {
   "cell_type": "code",
   "execution_count": 152,
   "metadata": {},
   "outputs": [
    {
     "name": "stdout",
     "output_type": "stream",
     "text": [
      "{'max_depth': 9}\n",
      "0.7606526610076634\n"
     ]
    }
   ],
   "source": [
    "# 调整 max_depth\n",
    "# max_depth=9\n",
    "# 0.7606526610076634\n",
    "param_grid = {'max_depth': [3, 4, 5, 6, 7, 8, 9, 10]}\n",
    "xgb_clf = XGBClassifier(n_estimators=200, \n",
    "                        subsample=0.7, \n",
    "                        gamma=0.6, \n",
    "                        random_state=0)\n",
    "GS = GridSearchCV(xgb_clf, param_grid, scoring='accuracy', cv=10) \n",
    "GS.fit(X_train_all, y_train_all)\n",
    "print(GS.best_params_)\n",
    "print(GS.best_score_)"
   ]
  },
  {
   "cell_type": "code",
   "execution_count": 153,
   "metadata": {},
   "outputs": [
    {
     "data": {
      "text/plain": [
       "0.7606526610076634"
      ]
     },
     "execution_count": 153,
     "metadata": {},
     "output_type": "execute_result"
    }
   ],
   "source": [
    "XGB_clf = XGBClassifier(n_estimators=200, \n",
    "                        subsample=0.7, \n",
    "                        gamma=0.6, \n",
    "                        max_depth=9, \n",
    "                        random_state=0)\n",
    "cross_val_score(XGB_clf, X_train_all, y_train_all, scoring='accuracy', cv=10).mean()"
   ]
  },
  {
   "cell_type": "code",
   "execution_count": 154,
   "metadata": {},
   "outputs": [
    {
     "data": {
      "image/png": "[encoded data removed]",
      "text/plain": [
       "<Figure size 432x288 with 2 Axes>"
      ]
     },
     "metadata": {
      "needs_background": "light"
     },
     "output_type": "display_data"
    }
   ],
   "source": [
    "# predict\n",
    "XGB_clf.fit(X_train_all, y_train_all)\n",
    "y_pred = XGB_clf.predict(X_test)\n",
    "XGB_cm = confusion_matrix(y_test, y_pred)\n",
    "\n",
    "cm_display = ConfusionMatrixDisplay(XGB_cm).plot()"
   ]
  },
  {
   "cell_type": "code",
   "execution_count": 155,
   "metadata": {},
   "outputs": [
    {
     "name": "stdout",
     "output_type": "stream",
     "text": [
      "分类准确率为： 0.759531898829747\n",
      "f1值为： 0.7556944231897689\n",
      "cohen_kappa系数为： 0.5190637976594942\n"
     ]
    }
   ],
   "source": [
    "print('分类准确率为：', accuracy_score(y_test, y_pred))\n",
    "print('f1值为：', f1_score(y_test, y_pred, average='macro'))\n",
    "print('cohen_kappa系数为：', cohen_kappa_score(y_test, y_pred))"
   ]
  },
  {
   "cell_type": "code",
   "execution_count": 158,
   "metadata": {},
   "outputs": [
    {
     "data": {
      "image/png": "[encoded data removed]",
      "text/plain": [
       "<Figure size 432x288 with 1 Axes>"
      ]
     },
     "metadata": {
      "needs_background": "light"
     },
     "output_type": "display_data"
    }
   ],
   "source": [
    "# plot feature importance\n",
    "plot_importance(XGB_clf)\n",
    "plt.show()"
   ]
  },
  {
   "cell_type": "markdown",
   "metadata": {},
   "source": [
    "#### LightGBM"
   ]
  },
  {
   "cell_type": "code",
   "execution_count": 11,
   "metadata": {},
   "outputs": [
    {
     "name": "stdout",
     "output_type": "stream",
     "text": [
      "0.0021839141845703125\n",
      "0.752996483614464\n"
     ]
    }
   ],
   "source": [
    "start_time = time.time()\n",
    "lgb_clf = lgb.LGBMClassifier(boosting_type='gbdt', \n",
    "                             objective ='binary',\n",
    "                             n_estimators=999, \n",
    "                             \n",
    "                             learning_rate=0.1,\n",
    "                             num_leaves=30, \n",
    "                             max_depth=6,\n",
    "                             \n",
    "                             subsample=0.8,\n",
    "                             colsample_bytree=0.8, \n",
    "                             random_state=0)\n",
    "print(time.time()-start_time)\n",
    "print(cross_val_score(lgb_clf, X_train_all, y_train_all, scoring='accuracy', cv=10).mean())"
   ]
  },
  {
   "cell_type": "code",
   "execution_count": 5,
   "metadata": {},
   "outputs": [],
   "source": [
    "params = {'boosting_type': 'gbdt', \n",
    "          'objective': 'binary', \n",
    "\n",
    "          'learning_rate': 0.1, \n",
    "          'num_leaves': 30, \n",
    "          'max_depth': 6,\n",
    "\n",
    "          'subsample': 0.8, \n",
    "          'colsample_bytree': 0.8, \n",
    "          'random_state': 0}"
   ]
  },
  {
   "cell_type": "code",
   "execution_count": 10,
   "metadata": {},
   "outputs": [
    {
     "name": "stdout",
     "output_type": "stream",
     "text": [
      "[LightGBM] [Info] Number of positive: 38210, number of negative: 38074\n",
      "[LightGBM] [Warning] Auto-choosing row-wise multi-threading, the overhead of testing was 0.001329 seconds.\n",
      "You can set `force_row_wise=true` to remove the overhead.\n",
      "And if memory is not enough, you can set `force_col_wise=true`.\n",
      "[LightGBM] [Info] Total Bins 1139\n",
      "[LightGBM] [Info] Number of data points in the train set: 76284, number of used features: 25\n",
      "[LightGBM] [Info] Number of positive: 38141, number of negative: 38143\n",
      "[LightGBM] [Warning] Auto-choosing row-wise multi-threading, the overhead of testing was 0.001167 seconds.\n",
      "You can set `force_row_wise=true` to remove the overhead.\n",
      "And if memory is not enough, you can set `force_col_wise=true`.\n",
      "[LightGBM] [Info] Total Bins 1139\n",
      "[LightGBM] [Info] Number of data points in the train set: 76284, number of used features: 25\n",
      "[LightGBM] [Info] Number of positive: 38121, number of negative: 38163\n",
      "[LightGBM] [Warning] Auto-choosing row-wise multi-threading, the overhead of testing was 0.001916 seconds.\n",
      "You can set `force_row_wise=true` to remove the overhead.\n",
      "And if memory is not enough, you can set `force_col_wise=true`.\n",
      "[LightGBM] [Info] Total Bins 1139\n",
      "[LightGBM] [Info] Number of data points in the train set: 76284, number of used features: 25\n",
      "[LightGBM] [Info] Number of positive: 38066, number of negative: 38218\n",
      "[LightGBM] [Warning] Auto-choosing row-wise multi-threading, the overhead of testing was 0.002158 seconds.\n",
      "You can set `force_row_wise=true` to remove the overhead.\n",
      "And if memory is not enough, you can set `force_col_wise=true`.\n",
      "[LightGBM] [Info] Total Bins 1139\n",
      "[LightGBM] [Info] Number of data points in the train set: 76284, number of used features: 25\n",
      "[LightGBM] [Info] Number of positive: 38102, number of negative: 38182\n",
      "[LightGBM] [Warning] Auto-choosing row-wise multi-threading, the overhead of testing was 0.001440 seconds.\n",
      "You can set `force_row_wise=true` to remove the overhead.\n",
      "And if memory is not enough, you can set `force_col_wise=true`.\n",
      "[LightGBM] [Info] Total Bins 1139\n",
      "[LightGBM] [Info] Number of data points in the train set: 76284, number of used features: 25\n",
      "[LightGBM] [Info] Number of positive: 38203, number of negative: 38081\n",
      "[LightGBM] [Warning] Auto-choosing row-wise multi-threading, the overhead of testing was 0.001263 seconds.\n",
      "You can set `force_row_wise=true` to remove the overhead.\n",
      "And if memory is not enough, you can set `force_col_wise=true`.\n",
      "[LightGBM] [Info] Total Bins 1139\n",
      "[LightGBM] [Info] Number of data points in the train set: 76284, number of used features: 25\n",
      "[LightGBM] [Info] Number of positive: 38155, number of negative: 38129\n",
      "[LightGBM] [Warning] Auto-choosing row-wise multi-threading, the overhead of testing was 0.002088 seconds.\n",
      "You can set `force_row_wise=true` to remove the overhead.\n",
      "And if memory is not enough, you can set `force_col_wise=true`.\n",
      "[LightGBM] [Info] Total Bins 1139\n",
      "[LightGBM] [Info] Number of data points in the train set: 76284, number of used features: 25\n",
      "[LightGBM] [Info] Number of positive: 38080, number of negative: 38204\n",
      "[LightGBM] [Warning] Auto-choosing row-wise multi-threading, the overhead of testing was 0.001035 seconds.\n",
      "You can set `force_row_wise=true` to remove the overhead.\n",
      "And if memory is not enough, you can set `force_col_wise=true`.\n",
      "[LightGBM] [Info] Total Bins 1139\n",
      "[LightGBM] [Info] Number of data points in the train set: 76284, number of used features: 25\n",
      "[LightGBM] [Info] Number of positive: 38190, number of negative: 38094\n",
      "[LightGBM] [Warning] Auto-choosing row-wise multi-threading, the overhead of testing was 0.001258 seconds.\n",
      "You can set `force_row_wise=true` to remove the overhead.\n",
      "And if memory is not enough, you can set `force_col_wise=true`.\n",
      "[LightGBM] [Info] Total Bins 1139\n",
      "[LightGBM] [Info] Number of data points in the train set: 76284, number of used features: 25\n",
      "[LightGBM] [Info] Number of positive: 38134, number of negative: 38150\n",
      "[LightGBM] [Warning] Auto-choosing row-wise multi-threading, the overhead of testing was 0.002891 seconds.\n",
      "You can set `force_row_wise=true` to remove the overhead.\n",
      "And if memory is not enough, you can set `force_col_wise=true`.\n",
      "[LightGBM] [Info] Total Bins 1139\n",
      "[LightGBM] [Info] Number of data points in the train set: 76284, number of used features: 25\n",
      "[50]\tcv_agg's auc: 0.777869 + 0.00545184\n",
      "[100]\tcv_agg's auc: 0.798518 + 0.00535446\n",
      "[150]\tcv_agg's auc: 0.809817 + 0.00486065\n",
      "[200]\tcv_agg's auc: 0.814821 + 0.00437509\n",
      "[250]\tcv_agg's auc: 0.818357 + 0.00434151\n",
      "[300]\tcv_agg's auc: 0.820698 + 0.00427152\n",
      "[350]\tcv_agg's auc: 0.822344 + 0.00391874\n",
      "[400]\tcv_agg's auc: 0.823861 + 0.00388463\n",
      "[450]\tcv_agg's auc: 0.825034 + 0.00393877\n",
      "[500]\tcv_agg's auc: 0.826013 + 0.00396044\n",
      "[550]\tcv_agg's auc: 0.826694 + 0.00391234\n",
      "[600]\tcv_agg's auc: 0.827374 + 0.00387651\n",
      "[650]\tcv_agg's auc: 0.827924 + 0.00380758\n",
      "[700]\tcv_agg's auc: 0.82832 + 0.00381718\n",
      "[750]\tcv_agg's auc: 0.828808 + 0.00368198\n",
      "[800]\tcv_agg's auc: 0.829152 + 0.00373036\n",
      "[850]\tcv_agg's auc: 0.829598 + 0.00373196\n",
      "[900]\tcv_agg's auc: 0.829897 + 0.0036493\n",
      "[950]\tcv_agg's auc: 0.830127 + 0.0035888\n",
      "[1000]\tcv_agg's auc: 0.830249 + 0.00361399\n",
      "best n_estimators: 999\n",
      "best cv score: 0.8302520266055593\n"
     ]
    }
   ],
   "source": [
    "# 调整 n_estimators\n",
    "# n_estimators=999\n",
    "# auc: 0.8302520266055593\n",
    "data_train = lgb.Dataset(X_train_all, y_train_all, silent=True)\n",
    "cv_results = lgb.cv(\n",
    "    params, data_train, num_boost_round=1000, nfold=10, stratified=False, shuffle=True, metrics='auc',\n",
    "    early_stopping_rounds=100, verbose_eval=50, show_stdv=True, seed=0)\n",
    "\n",
    "print('best n_estimators:', len(cv_results['auc-mean']))\n",
    "print('best cv score:', cv_results['auc-mean'][-1])"
   ]
  },
  {
   "cell_type": "code",
   "execution_count": 12,
   "metadata": {},
   "outputs": [
    {
     "name": "stdout",
     "output_type": "stream",
     "text": [
      "{'max_depth': 10}\n",
      "0.7569484452364038\n"
     ]
    }
   ],
   "source": [
    "# 调整 max_depth\n",
    "# max_depth=10\n",
    "# 0.7569484452364038\n",
    "param_grid = {'max_depth': [3, 4, 5, 6, 7, 8, 9, 10]}\n",
    "lgb_clf = lgb.LGBMClassifier(boosting_type='gbdt', \n",
    "                             objective ='binary',\n",
    "                             n_estimators=999, \n",
    "                             \n",
    "                             learning_rate=0.1,\n",
    "                             num_leaves=30, \n",
    "                             \n",
    "                             subsample=0.8,\n",
    "                             colsample_bytree=0.8, \n",
    "                             random_state=0)\n",
    "\n",
    "GS = GridSearchCV(lgb_clf, param_grid, scoring='accuracy', cv=10) \n",
    "GS.fit(X_train_all, y_train_all)\n",
    "print(GS.best_params_)\n",
    "print(GS.best_score_)"
   ]
  },
  {
   "cell_type": "code",
   "execution_count": 13,
   "metadata": {},
   "outputs": [
    {
     "name": "stdout",
     "output_type": "stream",
     "text": [
      "{'num_leaves': 140}\n",
      "0.7605583297513863\n"
     ]
    }
   ],
   "source": [
    "# 调整 num_leaves\n",
    "# num_leaves=140\n",
    "# 0.7605583297513863\n",
    "param_grid = {'num_leaves':range(50, 170, 30)}\n",
    "lgb_clf = lgb.LGBMClassifier(boosting_type='gbdt', \n",
    "                             objective ='binary',\n",
    "                             n_estimators=999, \n",
    "                             \n",
    "                             learning_rate=0.1,\n",
    "                             max_depth=10, \n",
    "                             \n",
    "                             subsample=0.8,\n",
    "                             colsample_bytree=0.8, \n",
    "                             random_state=0)\n",
    "\n",
    "GS = GridSearchCV(lgb_clf, param_grid, scoring='accuracy', cv=10) \n",
    "GS.fit(X_train_all, y_train_all)\n",
    "print(GS.best_params_)\n",
    "print(GS.best_score_)"
   ]
  },
  {
   "cell_type": "code",
   "execution_count": 14,
   "metadata": {},
   "outputs": [
    {
     "name": "stdout",
     "output_type": "stream",
     "text": [
      "{'min_child_samples': 20}\n",
      "0.7605583297513863\n"
     ]
    }
   ],
   "source": [
    "# 调整 min_child_samples\n",
    "# min_child_samples=20\n",
    "# 0.7605583297513863\n",
    "param_grid = {'min_child_samples': [18, 19, 20, 21, 22]}\n",
    "lgb_clf = lgb.LGBMClassifier(boosting_type='gbdt', \n",
    "                             objective ='binary',\n",
    "                             n_estimators=999, \n",
    "                             \n",
    "                             learning_rate=0.1,\n",
    "                             max_depth=10, \n",
    "                             num_leaves=140, \n",
    "                             \n",
    "                             subsample=0.8,\n",
    "                             colsample_bytree=0.8, \n",
    "                             random_state=0)\n",
    "\n",
    "GS = GridSearchCV(lgb_clf, param_grid, scoring='accuracy', cv=10) \n",
    "GS.fit(X_train_all, y_train_all)\n",
    "print(GS.best_params_)\n",
    "print(GS.best_score_)"
   ]
  },
  {
   "cell_type": "code",
   "execution_count": 15,
   "metadata": {},
   "outputs": [
    {
     "name": "stdout",
     "output_type": "stream",
     "text": [
      "{'subsample': 0.6}\n",
      "0.7605583297513863\n"
     ]
    }
   ],
   "source": [
    "# 调整 subsample\n",
    "# subsample=0.6\n",
    "# 0.7605583297513863\n",
    "param_grid = {'subsample': [0.6, 0.7, 0.8, 0.9]}\n",
    "lgb_clf = lgb.LGBMClassifier(boosting_type='gbdt', \n",
    "                             objective ='binary',\n",
    "                             n_estimators=999, \n",
    "                             \n",
    "                             learning_rate=0.1,\n",
    "                             max_depth=10, \n",
    "                             num_leaves=140, \n",
    "                             \n",
    "                             min_child_samples=20, \n",
    "                             colsample_bytree=0.8, \n",
    "                             random_state=0)\n",
    "\n",
    "GS = GridSearchCV(lgb_clf, param_grid, scoring='accuracy', cv=10) \n",
    "GS.fit(X_train_all, y_train_all)\n",
    "print(GS.best_params_)\n",
    "print(GS.best_score_)"
   ]
  },
  {
   "cell_type": "code",
   "execution_count": 16,
   "metadata": {},
   "outputs": [
    {
     "name": "stdout",
     "output_type": "stream",
     "text": [
      "{'colsample_bytree': 0.9}\n",
      "0.7610655749341012\n"
     ]
    }
   ],
   "source": [
    "# 调整 colsample_bytree\n",
    "# colsample_bytree=0.9\n",
    "# 0.7610655749341012\n",
    "param_grid = {'colsample_bytree': [0.6, 0.7, 0.8, 0.9]}\n",
    "lgb_clf = lgb.LGBMClassifier(boosting_type='gbdt', \n",
    "                             objective ='binary',\n",
    "                             n_estimators=999, \n",
    "                             \n",
    "                             learning_rate=0.1,\n",
    "                             max_depth=10, \n",
    "                             num_leaves=140, \n",
    "                             \n",
    "                             min_child_samples=20, \n",
    "                             subsample=0.6, \n",
    "                             random_state=0)\n",
    "\n",
    "GS = GridSearchCV(lgb_clf, param_grid, scoring='accuracy', cv=10) \n",
    "GS.fit(X_train_all, y_train_all)\n",
    "print(GS.best_params_)\n",
    "print(GS.best_score_)"
   ]
  },
  {
   "cell_type": "code",
   "execution_count": 17,
   "metadata": {},
   "outputs": [
    {
     "data": {
      "text/plain": [
       "0.7610655749341012"
      ]
     },
     "execution_count": 17,
     "metadata": {},
     "output_type": "execute_result"
    }
   ],
   "source": [
    "LGB_clf = lgb.LGBMClassifier(boosting_type='gbdt', \n",
    "                             objective ='binary',\n",
    "                             n_estimators=999, \n",
    "                             \n",
    "                             learning_rate=0.1,\n",
    "                             max_depth=10, \n",
    "                             num_leaves=140, \n",
    "                             \n",
    "                             min_child_samples=20, \n",
    "                             subsample=0.6, \n",
    "                             colsample_bytree=0.9, \n",
    "                             random_state=0)\n",
    "cross_val_score(LGB_clf, X_train_all, y_train_all, scoring='accuracy', cv=10).mean()"
   ]
  },
  {
   "cell_type": "code",
   "execution_count": 18,
   "metadata": {},
   "outputs": [
    {
     "data": {
      "image/png": "[encoded data removed]",
      "text/plain": [
       "<Figure size 432x288 with 2 Axes>"
      ]
     },
     "metadata": {
      "needs_background": "light"
     },
     "output_type": "display_data"
    }
   ],
   "source": [
    "# predict\n",
    "LGB_clf.fit(X_train_all, y_train_all)\n",
    "y_pred = LGB_clf.predict(X_test)\n",
    "LGB_cm = confusion_matrix(y_test, y_pred)\n",
    "\n",
    "cm_display = ConfusionMatrixDisplay(LGB_cm).plot()"
   ]
  },
  {
   "cell_type": "code",
   "execution_count": 19,
   "metadata": {},
   "outputs": [
    {
     "name": "stdout",
     "output_type": "stream",
     "text": [
      "分类准确率为： 0.7606644016610041\n",
      "f1值为： 0.7563499983080526\n",
      "cohen_kappa系数为： 0.5213288033220083\n"
     ]
    }
   ],
   "source": [
    "print('分类准确率为：', accuracy_score(y_test, y_pred))\n",
    "print('f1值为：', f1_score(y_test, y_pred, average='macro'))\n",
    "print('cohen_kappa系数为：', cohen_kappa_score(y_test, y_pred))"
   ]
  },
  {
   "cell_type": "code",
   "execution_count": null,
   "metadata": {},
   "outputs": [],
   "source": []
  }
 ],
 "metadata": {
  "kernelspec": {
   "display_name": "Python 3",
   "language": "python",
   "name": "python3"
  },
  "language_info": {
   "codemirror_mode": {
    "name": "ipython",
    "version": 3
   },
   "file_extension": ".py",
   "mimetype": "text/x-python",
   "name": "python",
   "nbconvert_exporter": "python",
   "pygments_lexer": "ipython3",
   "version": "3.8.2"
  }
 },
 "nbformat": 4,
 "nbformat_minor": 4
}
